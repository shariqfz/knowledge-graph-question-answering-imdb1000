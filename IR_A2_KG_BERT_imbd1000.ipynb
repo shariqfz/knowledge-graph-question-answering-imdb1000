{
  "cells": [
    {
      "cell_type": "code",
      "execution_count": 3,
      "metadata": {
        "colab": {
          "base_uri": "https://localhost:8080/"
        },
        "id": "vK0MfEE8N_r1",
        "outputId": "f4f12de3-4db8-4752-bc9d-d41541a10dab"
      },
      "outputs": [
        {
          "output_type": "stream",
          "name": "stdout",
          "text": [
            "Cloning into 'knowledge-graph-question-answering-imdb1000'...\n",
            "remote: Enumerating objects: 16, done.\u001b[K\n",
            "remote: Counting objects: 100% (16/16), done.\u001b[K\n",
            "remote: Compressing objects: 100% (14/14), done.\u001b[K\n",
            "remote: Total 16 (delta 3), reused 4 (delta 0), pack-reused 0\u001b[K\n",
            "Receiving objects: 100% (16/16), 142.58 KiB | 1.85 MiB/s, done.\n",
            "Resolving deltas: 100% (3/3), done.\n"
          ]
        }
      ],
      "source": [
        "# GET DATA\n",
        "import os\n",
        "import matplotlib.pyplot as plt\n",
        "\n",
        "!rm -rf \"/content/knowledge-graph-question-answering-imdb1000\"\n",
        "\n",
        "!git clone https://github.com/shariqfz/knowledge-graph-question-answering-imdb1000.git\n",
        "\n",
        "data_path = '/content/knowledge-graph-question-answering-imdb1000/data/IMDB-Movie-Data.csv'"
      ]
    },
    {
      "cell_type": "code",
      "execution_count": 1,
      "metadata": {
        "colab": {
          "base_uri": "https://localhost:8080/"
        },
        "id": "RsY4cg90cVSb",
        "outputId": "a6db0093-2cee-4d74-c961-5726980e08f0"
      },
      "outputs": [
        {
          "output_type": "stream",
          "name": "stdout",
          "text": [
            "Requirement already satisfied: Node2vec in /usr/local/lib/python3.10/dist-packages (0.4.6)\n",
            "Requirement already satisfied: gensim<5.0.0,>=4.1.2 in /usr/local/lib/python3.10/dist-packages (from Node2vec) (4.3.2)\n",
            "Requirement already satisfied: joblib<2.0.0,>=1.1.0 in /usr/local/lib/python3.10/dist-packages (from Node2vec) (1.3.2)\n",
            "Requirement already satisfied: networkx<3.0,>=2.5 in /usr/local/lib/python3.10/dist-packages (from Node2vec) (2.8.8)\n",
            "Requirement already satisfied: numpy<2.0.0,>=1.19.5 in /usr/local/lib/python3.10/dist-packages (from Node2vec) (1.23.5)\n",
            "Requirement already satisfied: tqdm<5.0.0,>=4.55.1 in /usr/local/lib/python3.10/dist-packages (from Node2vec) (4.66.1)\n",
            "Requirement already satisfied: scipy>=1.7.0 in /usr/local/lib/python3.10/dist-packages (from gensim<5.0.0,>=4.1.2->Node2vec) (1.11.3)\n",
            "Requirement already satisfied: smart-open>=1.8.1 in /usr/local/lib/python3.10/dist-packages (from gensim<5.0.0,>=4.1.2->Node2vec) (6.4.0)\n"
          ]
        }
      ],
      "source": [
        "!pip install Node2vec"
      ]
    },
    {
      "cell_type": "code",
      "execution_count": 4,
      "metadata": {
        "colab": {
          "base_uri": "https://localhost:8080/",
          "height": 86,
          "referenced_widgets": [
            "9dc022f432a944dd9499235dee461cc1",
            "64c0cd26ea014d399feeb44ae3202737",
            "0afb2cf108d04fe0801437dee0b56220",
            "7416342240b746eda4ec3db36f95999b",
            "d7b4ab6a5d3344f6b5e620f4ba47bc07",
            "248f91531288453b9bdb2edf26ae5ed8",
            "29e61045091044408a618c32bb744504",
            "e581dcb5b56e49a4a72ad30758c09385",
            "f791ed76d9f7476db64566fa8272971d",
            "c1a9791c0db44ea6ba1b2f31ef86bd9d",
            "dc4081c81f324a31958f11d9748546d2"
          ]
        },
        "id": "qNwvMoE-cHxN",
        "outputId": "ab991d43-8a50-40f0-e4ad-494a1c0dcca4"
      },
      "outputs": [
        {
          "output_type": "display_data",
          "data": {
            "text/plain": [
              "Computing transition probabilities:   0%|          | 0/4046 [00:00<?, ?it/s]"
            ],
            "application/vnd.jupyter.widget-view+json": {
              "version_major": 2,
              "version_minor": 0,
              "model_id": "9dc022f432a944dd9499235dee461cc1"
            }
          },
          "metadata": {}
        },
        {
          "output_type": "stream",
          "name": "stdout",
          "text": [
            "{'Drama': 0, '2016': 1, 'Comedy': 2, 'Action': 3, 'Adventure': 4, 'Thriller': 5, 'Horror': 6, 'Romance': 7, 'Crime': 8, '2015': 9, 'Mystery': 10, 'Sci-Fi': 11, '2014': 12, 'Fantasy': 13, '2013': 14, 'Biography': 15, '2012': 16, '2011': 17, '2008': 18, '2010': 19, '2007': 20, '2009': 21, 'Animation': 22, 'Family': 23, '2006': 24, 'History': 25, 'Sport': 26, 'Music': 27, 'Gran Torino': 28, 'War': 29, 'Clint Eastwood': 30, 'To Rome with Love': 31, 'The Host': 32, 'Tracktown': 33, '5- 25- 77': 34, 'Woody Allen': 35, 'Chef': 36, 'M. Night Shyamalan': 37, 'Popstar: Never Stop Never Stopping': 38, 'Lars von Trier': 39, 'Mike Flanagan': 40, 'Paul W.S. Anderson': 41, 'Western': 42, 'Blair Witch': 43, 'I, Daniel Blake': 44, 'The Fast and the Furious: Tokyo Drift': 45, 'En man som heter Ove': 46, 'Dragonball Evolution': 47, 'Wrecker': 48, 'Hunger': 49, 'Jagten': 50, 'Viral': 51, 'Hostel: Part II': 52, 'The Neighbor': 53, 'Incendies': 54, 'I.T.': 55, 'I Origins': 56, 'Bacalaureat': 57, 'City of Tiny Lights': 58, 'The Void': 59, 'Triangle': 60, 'Friday the 13th': 61, 'Hounds of Love': 62, 'Ouija: Origin of Evil': 63, 'Birth of the Dragon': 64, 'Shin Gojira': 65, 'The Fall': 66, 'Tall Men': 67, 'Boyka: Undisputed IV': 68, \"Don't Fuck in the Woods\": 69, 'Let Me Make You a Martyr': 70, 'The Human Centipede (First Sequence)': 71, 'The Intent': 72, \"Pan's Labyrinth\": 73, 'All We Had': 74, 'Taare Zameen Par': 75, 'Paterson': 76, 'Texas Chainsaw 3D': 77, 'Barbershop: The Next Cut': 78, 'Mommy': 79, 'The Escort': 80, 'Kickboxer: Vengeance': 81, 'Dead Awake': 82, 'The Intouchables': 83, 'Queen of Katwe': 84, 'Clown': 85, \"2307: Winter's Dream\": 86, '31': 87, 'Piranha 3D': 88, 'Friend Request': 89, 'The Babysitters': 90, 'Lowriders': 91, 'The Girl Next Door': 92, 'Martyrs': 93, 'The Lives of Others': 94, 'Unfriended': 95, 'Straight Outta Compton': 96, 'Dear Zindagi': 97, 'Turbo Kid': 98, '13 Hours': 99, 'Below Her Mouth': 100, 'Aliens vs Predator - Requiem': 101, 'A Dark Song': 102, 'Goksung': 103, 'Deuces': 104, 'Fallen': 105, 'Step Up 2: The Streets': 106, 'King Cobra': 107, 'El secreto de sus ojos': 108, 'WALL·E': 109, 'Lovesong': 110, 'Bahubali: The Beginning': 111, 'A Street Cat Named Bob': 112, 'Ratatouille': 113, 'Whisky Galore': 114, 'Satanic': 115, 'Apocalypto': 116, 'Pet': 117, 'Busanhaeng': 118, 'Relatos salvajes': 119, 'Ma vie de Courgette': 120, 'Vacation': 121, 'Scream 4': 122, 'Lída Baarová': 123, 'La tortue rouge': 124, 'Toni Erdmann': 125, 'Kynodontas': 126, 'Only for One Night': 127, 'Viking': 128, 'Beyond the Gates': 129, 'Forushande': 130, 'Demain tout commence': 131, 'Moonlight': 132, 'Srpski film': 133, 'Kicks': 134, 'A Cure for Wellness': 135, 'Lady Macbeth': 136, 'Paris pieds nus': 137, 'Dope': 138, 'Sleight': 139, 'I Spit on Your Grave': 140, 'Ah-ga-ssi': 141, 'Hairspray': 142, 'Megan Is Missing': 143, 'Folk Hero & Funny Guy': 144, 'Frantz': 145, 'The Love Witch': 146, 'Contratiempo': 147, 'Home': 148, 'Entourage': 149, 'The Levelling': 150, 'Perfetti sconosciuti': 151, 'The Rise of the Krays': 152, 'The VVitch: A New-England Folktale': 153, 'After Earth': 154, 'Coherence': 155, 'The Skin I Live In': 156, 'Disaster Movie': 157, 'Big Hero 6': 158, 'Hellboy II: The Golden Army': 159, 'The Boy': 160, 'Chalk It Up': 161, 'The Blind Side': 162, 'The Purge: Election Year': 163, 'The Matchbreaker': 164, 'Denis Villeneuve': 165, 'Ridley Scott': 166, 'David Yates': 167, 'Blood Father': 168, \"L'avenir\": 169, 'Michael Bay': 170, 'Dangal': 171, 'PK': 172, 'A Million Ways to Die in the West': 173, 'The Survivalist': 174, 'Coraline': 175, \"Let's Be Cops\": 176, 'Remember Me': 177, 'Tusk': 178, '3 Idiots': 179, 'The Shallows': 180, 'Rambo': 181, 'The Warriors Gate': 182, 'Evil Dead': 183, 'American Reunion': 184, 'Ben-Hur': 185, 'The Black Room': 186, 'Final Destination 5': 187, 'The Thinning': 188, \"Bridget Jones's Baby\": 189, 'The Girl with All the Gifts': 190, 'The Princess and the Frog': 191, 'The Belko Experiment': 192, 'Independence Day: Resurgence': 193, 'Musical': 194, 'My Big Fat Greek Wedding 2': 195, \"La vie d'Adèle\": 196, 'Hello, My Name Is Doris': 197, 'Scouts Guide to the Zombie Apocalypse': 198, 'Custody': 199, 'Koe no katachi': 200, 'Tramps': 201, \"Billy Lynn's Long Halftime Walk\": 202, 'Lavender': 203, 'Oculus': 204, 'The DUFF': 205, 'Brave': 206, 'Danny Boyle': 207, 'Max': 208, 'Moon': 209, 'Mine': 210, 'The Babadook': 211, 'The Edge of Seventeen': 212, 'Zack Snyder': 213, 'Hacker': 214, 'A Quiet Passion': 215, 'Annabelle': 216, 'Hunt for the Wilderpeople': 217, '42': 218, 'The Karate Kid': 219, 'Love': 220, 'Snakes on a Plane': 221, 'Bridge to Terabithia': 222, 'Transpecos': 223, 'Wreck-It Ralph': 224, 'The Guest': 225, 'The BFG': 226, 'Dennis Dugan': 227, 'The 5th Wave': 228, 'Exposed': 229, 'Keanu': 230, 'Sing Street': 231, 'Raw (II)': 232, 'The Strangers': 233, 'Notorious': 234, 'It Follows': 235, 'Saving Mr. Banks': 236, 'Paint It Black': 237, 'Hush': 238, 'Kimi no na wa': 239, 'American Wrestler: The Wizard': 240, 'Wolves at the Door': 241, 'Guillermo del Toro': 242, 'Twin Peaks: The Missing Pieces': 243, 'The Green Inferno': 244, 'Ice Age: Collision Course': 245, 'The Invitation': 246, 'Paper Towns': 247, 'Max Steel': 248, 'Mr. Nobody': 249, 'Legion': 250, 'Good Kids': 251, 'Under the Skin': 252, 'Ballerina': 253, 'Miracles from Heaven': 254, 'Spring Breakers': 255, 'Project X': 256, 'The Visit': 257, 'Alexandre Aja': 258, 'Captain Fantastic': 259, 'Rocky Balboa': 260, 'American Pastoral': 261, 'The Age of Shadows': 262, 'Fantastic Beasts and Where to Find Them': 263, 'Finding Dory': 264, 'Amateur Night': 265, 'Boyhood': 266, \"Pete's Dragon\": 267, \"Devil's Knot\": 268, 'The Mortal Instruments: City of Bones': 269, 'Mindhorn': 270, 'Rogue One': 271, 'The Ghost Writer': 272, 'Beowulf': 273, 'Yoga Hosers': 274, 'Life of Pi': 275, 'The Master': 276, 'Django Unchained': 277, 'What We Do in the Shadows': 278, 'Precious': 279, 'Handsome Devil': 280, 'Män som hatar kvinnor': 281, 'Eastern Promises': 282, 'Predestination': 283, 'Silent Hill': 284, 'No Strings Attached': 285, 'Swiss Army Man': 286, 'Creed': 287, 'Elle': 288, 'Terminator Genisys': 289, 'Search Party': 290, 'Slither': 291, 'Toy Story 3': 292, 'District 9': 293, 'Endless Love': 294, 'J.J. Abrams': 295, 'John Carter': 296, 'The Golden Compass': 297, \"Winter's Bone\": 298, 'American Honey': 299, 'The Wolverine': 300, 'Iris': 301, 'Me and Earl and the Dying Girl': 302, 'USS Indianapolis: Men of Courage': 303, 'Planet Terror': 304, 'Frozen': 305, 'Tangled': 306, 'Me Before You': 307, 'Up': 308, 'Eddie the Eagle': 309, 'Quentin Tarantino': 310, 'Pacific Rim': 311, 'Underworld Awakening': 312, 'Changeling': 313, 'The Promise': 314, 'Percy Jackson & the Olympians: The Lightning Thief': 315, 'The Heat': 316, 'The Cabin in the Woods': 317, 'Bonjour Anne': 318, 'White Girl': 319, 'Footloose': 320, 'Loving': 321, 'Sex Tape': 322, 'The Kings of Summer': 323, 'Rock of Ages': 324, \"The Blackcoat's Daughter\": 325, 'Escape Plan': 326, 'The Grand Budapest Hotel': 327, 'Bronson': 328, 'Monster Trucks': 329, 'Suite Française': 330, 'The Gunman': 331, 'Personal Shopper': 332, \"L'odyssée\": 333, 'The Disappointments Room': 334, \"You Don't Mess with the Zohan\": 335, 'War Dogs': 336, 'The Hateful Eight': 337, 'Hands of Stone': 338, 'The Stanford Prison Experiment': 339, 'Moonrise Kingdom': 340, 'Detour': 341, 'Stake Land': 342, 'True Crimes': 343, 'Paul Thomas Anderson': 344, 'Rupture': 345, 'Everest': 346, \"Don't Think Twice\": 347, 'The Boy in the Striped Pyjamas': 348, 'Bride Wars': 349, 'Nerve': 350, 'The Stakelander': 351, 'Morgan': 352, \"She's the Man\": 353, 'Life as We Know It': 354, 'The Boy Next Door': 355, 'Colonia': 356, 'Eli Roth': 357, 'Equals': 358, 'Peter Jackson': 359, 'Crawlspace': 360, 'I Am the Pretty Thing That Lives in the House': 361, 'The Mist': 362, 'Matthew Vaughn': 363, 'Sleeping Beauty': 364, 'Christine': 365, \"What to Expect When You're Expecting\": 366, 'Gone Girl': 367, 'Selma': 368, 'Brimstone': 369, 'The Autopsy of Jane Doe': 370, 'Rush': 371, 'Final Girl': 372, 'The Hills Have Eyes': 373, 'Orphan': 374, \"Hachi: A Dog's Tale\": 375, 'Ant-Man': 376, 'Room': 377, 'The Daughter': 378, 'The Boss': 379, 'Lights Out': 380, 'Before We Go': 381, 'Dear White People': 382, 'Easy A': 383, 'A Monster Calls': 384, 'Goosebumps': 385, 'August Rush': 386, 'Tropic Thunder': 387, 'The Legend of Tarzan': 388, 'Trust': 389, 'Before I Wake': 390, 'Ghost Rider': 391, 'In Time': 392, 'Steven Spielberg': 393, 'Fifty Shades of Grey': 394, 'Adam Wingard': 395, 'The Expendables 2': 396, 'Star Wars: Episode VII - The Force Awakens': 397, 'Tarsem Singh': 398, 'The House Bunny': 399, 'Into the Forest': 400, 'Happy Feet': 401, 'Everybody Wants Some!!': 402, '10 Cloverfield Lane': 403, 'If I Stay': 404, 'The Secret Life of Pets': 405, 'Inland Empire': 406, 'Jaume Collet-Serra': 407, 'James Wan': 408, 'The Conjuring 2': 409, 'Snowden': 410, 'Mechanic: Resurrection': 411, 'G.I. Joe: The Rise of Cobra': 412, 'Knock Knock': 413, 'Maudie': 414, 'Sinister': 415, 'Justin Lin': 416, 'Indignation': 417, 'Predators': 418, 'Cars': 419, 'Slumdog Millionaire': 420, 'The Assignment': 421, 'A Walk Among the Tombstones': 422, 'Mr. Church': 423, 'Scott Pilgrim vs. the World': 424, 'Take Me Home Tonight': 425, 'The Last Witch Hunter': 426, 'Jack Reacher: Never Go Back': 427, 'Your Highness': 428, 'D.J. Caruso': 429, 'Resident Evil: The Final Chapter': 430, 'Ex Machina': 431, 'Antoine Fuqua': 432, 'Martin Scorsese': 433, 'The Secret Life of Walter Mitty': 434, 'Movie 43': 435, 'Mean Dreams': 436, \"Rules Don't Apply\": 437, 'Mama': 438, 'Underworld: Rise of the Lycans': 439, 'The Man Who Knew Infinity': 440, 'Despicable Me': 441, \"The Headhunter's Calling\": 442, 'Absolutely Anything': 443, 'Andrew Stanton': 444, 'Blended': 445, 'Blue Valentine': 446, 'Hidden Figures': 447, 'Stardust': 448, 'Sleeping with Other People': 449, '127 Hours': 450, 'Scott Hicks': 451, 'The imposible': 452, 'Across the Universe': 453, 'Rescue Dawn': 454, 'I Am Legend': 455, 'Super 8': 456, 'Moana': 457, 'Mr. Brooks': 458, 'Nine Lives': 459, 'Wild': 460, 'Disturbia': 461, 'This Beautiful Fantastic': 462, 'Real Steel': 463, 'Storks': 464, 'Trainwreck': 465, 'Love, Rosie': 466, 'The Last Airbender': 467, 'Sucker Punch': 468, 'The Lucky One': 469, 'Xavier Dolan': 470, 'Funny Games': 471, 'The Descendants': 472, 'David Fincher': 473, 'The Choice': 474, 'Vampire Academy': 475, 'We Are Your Friends': 476, 'Magic Mike XXL': 477, 'Step Up': 478, 'Pride and Prejudice and Zombies': 479, 'Zootopia': 480, 'Jack Ryan: Shadow Recruit': 481, 'Carrie': 482, 'La migliore offerta': 483, 'John Lee Hancock': 484, 'Deadpool': 485, 'Vincent N Roxxy': 486, 'Ben Stiller': 487, 'Anthropoid': 488, 'Teenage Mutant Ninja Turtles': 489, 'Monsters University': 490, 'Judd Apatow': 491, 'Australia': 492, 'The Ugly Truth': 493, 'Half of a Yellow Sun': 494, 'Legend': 495, 'Joe Wright': 496, 'Beautiful Creatures': 497, 'The Illusionist': 498, 'The Hobbit: An Unexpected Journey': 499, 'Peter Berg': 500, 'The Tree of Life': 501, 'Ron Howard': 502, 'Steve McQueen': 503, 'The Theory of Everything': 504, 'Percy Jackson: Sea of Monsters': 505, 'Spectral': 506, 'Deja Vu': 507, 'Realive': 508, 'Little Miss Sunshine': 509, 'All Good Things': 510, 'Resident Evil: Afterlife': 511, 'Love & Friendship': 512, 'Tomorrowland': 513, 'A Hologram for the King': 514, 'Pompeii': 515, 'Shut In': 516, 'High-Rise': 517, \"Fool's Gold\": 518, 'The Conjuring': 519, 'James Gunn': 520, 'Demolition': 521, 'Underworld: Blood Wars': 522, 'Unbroken': 523, 'Warm Bodies': 524, 'Robert Zemeckis': 525, 'The Age of Adaline': 526, 'Rise of the Planet of the Apes': 527, 'Green Room': 528, 'Zack and Miri Make a Porno': 529, 'David O. Russell': 530, 'The Hurt Locker': 531, 'Terminator Salvation': 532, 'No Escape': 533, 'Horns': 534, 'Captain Phillips': 535, \"He's Just Not That Into You\": 536, 'Marie Antoinette': 537, 'Freedom Writers': 538, 'RED': 539, 'Woman in Gold': 540, 'Watchmen': 541, 'Ghostbusters': 542, 'The Road': 543, 'Jean-Marc Vallée': 544, 'Despicable Me 2': 545, '1408': 546, 'Unknown': 547, 'Pitch Perfect': 548, 'Kick-Ass': 549, 'Il racconto dei racconti - Tale of Tales': 550, 'The Break-Up': 551, 'The Lobster': 552, 'Colossal': 553, 'Fences': 554, 'Money Monster': 555, 'The Best of Me': 556, '300: Rise of an Empire': 557, 'Wakefield': 558, 'Shooter': 559, 'Sisters': 560, 'Louis Leterrier': 561, 'The Walk': 562, 'This Is 40': 563, 'The Drop': 564, 'Friends with Benefits': 565, 'The Lovely Bones': 566, 'Richard Linklater': 567, 'P.S. I Love You': 568, 'Perfume: The Story of a Murderer': 569, 'The Purge': 570, 'Macbeth': 571, 'There Will Be Blood': 572, 'Whiskey Tango Foxtrot': 573, 'Ang Lee': 574, 'What If': 575, 'Bad Moms': 576, 'Red Dawn': 577, 'Derek Cianfrance': 578, 'Immortals': 579, 'The Comedian': 580, 'Melancholia': 581, 'Maze Runner: The Scorch Trials': 582, 'Wes Anderson': 583, \"What's Your Number?\": 584, 'Gangster Squad': 585, 'Never Back Down': 586, 'Lincoln': 587, 'Enemy': 588, 'Adam McKay': 589, 'The Assassination of Jesse James by the Coward Robert Ford': 590, 'Night at the Museum: Secret of the Tomb': 591, 'Rio': 592, 'The Butler': 593, 'Riddick': 594, 'Solace': 595, 'Eye in the Sky': 596, 'Pandorum': 597, 'Self/less': 598, 'Locke': 599, 'About Time': 600, 'Midnight in Paris': 601, 'Greg Mottola': 602, 'The Three Musketeers': 603, 'Secret in Their Eyes': 604, 'The Great Wall': 605, 'Rock Dog': 606, 'Batman v Superman: Dawn of Justice': 607, \"It's Only the End of the World\": 608, 'Keeping Up with the Joneses': 609, 'The Adjustment Bureau': 610, 'Jumper': 611, \"Jennifer's Body\": 612, '28 Weeks Later': 613, 'Twilight': 614, 'Paul Feig': 615, 'Live Free or Die Hard': 616, 'The First Time': 617, 'The Founder': 618, 'Sylvester Stallone': 619, 'Whiplash': 620, 'Lucky Number Slevin': 621, 'Why Him?': 622, 'Idiocracy': 623, 'Lucy': 624, 'George Tillman Jr.': 625, 'Transformers: Age of Extinction': 626, 'Let Me In': 627, 'Inside Out': 628, '21': 629, 'Fracture': 630, 'Conan the Barbarian': 631, 'Birdman or (The Unexpected Virtue of Ignorance)': 632, 'Grindhouse': 633, 'The Family': 634, 'Ben Affleck': 635, 'Death Proof': 636, 'Yorgos Lanthimos': 637, 'Taken 3': 638, 'Minions': 639, 'Florence Foster Jenkins': 640, 'I Am Number Four': 641, 'The Expendables 3': 642, 'Lee Daniels': 643, 'Anna Karenina': 644, 'The Fault in Our Stars': 645, 'Kevin Smith': 646, 'Jon Favreau': 647, 'Blackhat': 648, 'This Means War': 649, 'Need for Speed': 650, 'Savages': 651, 'Sicario': 652, 'Jackie': 653, 'Split': 654, 'Babel': 655, 'Shawn Levy': 656, 'Battleship': 657, '20th Century Women': 658, 'The Judge': 659, 'Nicolas Winding Refn': 660, 'Inglourious Basterds': 661, 'Christopher Smith': 662, 'Nymphomaniac: Vol. I': 663, 'April Mullen': 664, 'Alejandro González Iñárritu': 665, 'The Ticket': 666, 'Cloverfield': 667, 'The Longest Ride': 668, 'Gravity': 669, 'Diary of a Wimpy Kid: Dog Days': 670, 'A Bigger Splash': 671, 'Deepwater Horizon': 672, 'The Mummy: Tomb of the Dragon Emperor': 673, \"Don't Breathe\": 674, 'Sex and the City': 675, 'The Expendables': 676, 'The Intern': 677, \"Ocean's Thirteen\": 678, 'Jon M. Chu': 679, 'A United Kingdom': 680, 'One Day': 681, 'Zipper': 682, 'Revolutionary Road': 683, 'The Magnificent Seven': 684, 'Antichrist': 685, 'The Bad Batch': 686, 'Luke Greenfield': 687, 'Gavin Hood': 688, 'Super': 689, 'Gods of Egypt': 690, 'The Whole Truth': 691, 'Public Enemies': 692, 'Dredd': 693, 'Captain America: Civil War': 694, 'The Heartbreak Kid': 695, 'The Exception': 696, 'Taken': 697, 'The Pursuit of Happyness': 698, 'Roland Emmerich': 699, 'Will Gluck': 700, 'The Curious Case of Benjamin Button': 701, 'The Midnight Meat Train': 702, 'Live by Night': 703, 'Gore Verbinski': 704, \"Miss Peregrine's Home for Peculiar Children\": 705, 'Warrior': 706, 'Marcus Nispel': 707, 'The Imaginarium of Doctor Parnassus': 708, 'Denial': 709, 'Centurion': 710, 'Shawn Burkett': 711, 'Superman Returns': 712, 'Neill Blomkamp': 713, 'Passengers': 714, \"We're the Millers\": 715, 'Hope Dickson Leach': 716, 'The Dressmaker': 717, 'Bastille Day': 718, 'Talladega Nights: The Ballad of Ricky Bobby': 719, 'Francis Lawrence': 720, 'Step Brothers': 721, 'Christopher Nolan': 722, 'Silver Linings Playbook': 723, 'Vicky Cristina Barcelona': 724, 'Annie': 725, 'Paul Greengrass': 726, 'Rob Cohen': 727, 'The Imitation Game': 728, 'Knocked Up': 729, 'The Spectacular Now': 730, 'American Sniper': 731, 'Seventh Son': 732, 'The Other Woman': 733, 'The Nice Guys': 734, 'Matt Reeves': 735, 'Juno': 736, 'The Loft': 737, 'Manchester by the Sea': 738, 'Grimsby': 739, 'The Siege of Jadotville': 740, 'The Hobbit: The Desolation of Smaug': 741, 'That Awkward Moment': 742, 'The Accountant': 743, 'Diary of a Wimpy Kid': 744, 'Lady in the Water': 745, 'Carol': 746, 'The Interview': 747, 'Flight': 748, 'Thor Freudenthal': 749, 'Insurgent': 750, '300': 751, 'Dracula Untold': 752, 'Brad Bird': 753, 'Elizabeth Banks': 754, 'The Fountain': 755, 'Indiana Jones and the Kingdom of the Crystal Skull': 756, 'Bridge of Spies': 757, 'Hercules': 758, 'The Happening': 759, 'The Gambler': 760, 'We Need to Talk About Kevin': 761, 'Mikael Håfström': 762, 'Nightcrawler': 763, 'The Counselor': 764, 'Diary of a Wimpy Kid: Rodrick Rules': 765, 'Kubo and the Two Strings': 766, 'Chris Stokes': 767, \"She's Out of My League\": 768, 'Sex and the City 2': 769, 'Begin Again': 770, 'Jeff Grace': 771, 'Maleficent': 772, 'Sweeney Todd: The Demon Barber of Fleet Street': 773, 'The Proposal': 774, 'San Andreas': 775, 'Debra Granik': 776, 'Café Society': 777, 'Man of Steel': 778, 'Brooklyn': 779, 'Teenage Mutant Ninja Turtles: Out of the Shadows': 780, 'Rajkumar Hirani': 781, 'Doctor Strange': 782, 'The Man from U.N.C.L.E.': 783, 'Safe Haven': 784, 'Hotel Transylvania 2': 785, 'Green Lantern': 786, 'Prometheus': 787, 'World War Z': 788, 'The Last Face': 789, 'Sunshine': 790, 'Pitch Perfect 2': 791, 'Sully': 792, 'Joey Curtis': 793, 'Seth MacFarlane': 794, 'Bone Tomahawk': 795, 'Spider-Man 3': 796, 'Tron': 797, 'Child 44': 798, 'Dirty Grandpa': 799, 'The Neon Demon': 800, 'Imperium': 801, 'Allied': 802, \"The King's Speech\": 803, 'John R. Leonetti': 804, 'John Carney': 805, 'Atonement': 806, 'Regression': 807, 'The Dictator': 808, 'Trolls': 809, 'Faster': 810, 'Andrew Niccol': 811, 'Mike and Dave Need Wedding Dates': 812, 'Frank Darabont': 813, 'The Giver': 814, 'Bleed for This': 815, 'G.I. Joe: Retaliation': 816, 'Kirk Jones': 817, 'White House Down': 818, 'A Kind of Murder': 819, 'Resident Evil: Retribution': 820, 'Cinderella': 821, 'Norman: The Moderate Rise and Tragic Fall of a New York Fixer': 822, 'Total Recall': 823, 'Duncan Jones': 824, 'Youth': 825, 'Midnight Special': 826, 'Robert Schwentke': 827, 'Masterminds': 828, 'Darren Aronofsky': 829, 'Sam Mendes': 830, 'The Twilight Saga: Breaking Dawn - Part 2': 831, 'Get Hard': 832, 'Chuck': 833, 'The Lost City of Z': 834, 'Limitless': 835, 'The Da Vinci Code': 836, 'Robin Hood': 837, 'Justin Tipping': 838, 'Gone Baby Gone': 839, 'Marc Webb': 840, 'Couples Retreat': 841, 'Seven Psychopaths': 842, 'In Bruges': 843, 'Christian Ditter': 844, 'Blood Diamond': 845, 'Captain America: The First Avenger': 846, 'Dawn of the Planet of the Apes': 847, 'Jurassic World': 848, 'Pain & Gain': 849, 'Black Swan': 850, 'Hanna': 851, 'Silence': 852, 'Prince of Persia: The Sands of Time': 853, 'McG': 854, 'John Wick': 855, 'Horrible Bosses': 856, 'Lisa Addario': 857, 'Paul': 858, 'Closed Circuit': 859, 'The 9th Life of Louis Drax': 860, 'Oz Perkins': 861, 'Grown Ups': 862, 'Len Wiseman': 863, 'Ted 2': 864, 'Fede Alvarez': 865, 'The Amazing Spider-Man': 866, 'Burnt': 867, 'The Maze Runner': 868, 'Sin City: A Dame to Kill For': 869, 'James DeMonaco': 870, 'The Secret Scripture': 871, 'Jason Bourne': 872, 'Thomas Vinterberg': 873, 'Lion': 874, \"Mother's Day\": 875, 'Alexi Pappas': 876, 'Central Intelligence': 877, 'The Twilight Saga: Eclipse': 878, 'Richard LaGravenese': 879, 'Into the Wild': 880, 'Don Jon': 881, 'End of Watch': 882, 'RoboCop': 883, 'Hail, Caesar!': 884, '3 Days to Kill': 885, 'Southpaw': 886, 'Cristian Mungiu': 887, 'X-Men Origins: Wolverine': 888, 'The Bourne Ultimatum': 889, 'Robin Swicord': 890, 'Free State of Jones': 891, 'Guardians of the Galaxy': 892, 'Unstoppable': 893, 'Pierre Coffin': 894, 'Tim Burton': 895, 'Kenneth Branagh': 896, 'The Sea of Trees': 897, 'Transformers: Dark of the Moon': 898, 'Clash of the Titans': 899, 'David Lynch': 900, 'Greg Kwedar': 901, 'Tinker Tailor Soldier Spy': 902, 'Man on a Ledge': 903, 'Nicholas Stoller': 904, 'Warcraft': 905, 'Inherent Vice': 906, 'Jason Moore': 907, 'Tom Tykwer': 908, 'Edward Zwick': 909, 'Ricardo de Montreuil': 910, 'Jamal Hill': 911, 'The Place Beyond the Pines': 912, 'Neil Burger': 913, 'Filth': 914, 'Trance': 915, 'Mia Hansen-Løve': 916, '(500) Days of Summer': 917, 'The Other Guys': 918, 'Body of Lies': 919, 'The Devil Wears Prada': 920, 'Inside Man': 921, 'The Social Network': 922, 'The Internship': 923, 'Skyfall': 924, '21 Jump Street': 925, 'Brian Helgeland': 926, 'Jane Eyre': 927, 'Jason Friedberg': 928, 'John Stockwell': 929, 'Nocturnal Animals': 930, 'Pascal Laugier': 931, 'Frank Coraci': 932, 'Rolfe Kanefsky': 933, 'Chappie': 934, '17 Again': 935, 'Guy Ritchie': 936, 'Quantum of Solace': 937, 'Ben Wheatley': 938, 'The Hangover': 939, 'Todd Phillips': 940, 'J.A. Bayona': 941, 'Ron Clements': 942, 'Cars 2': 943, 'Hacksaw Ridge': 944, 'David Bowers': 945, 'Love & Other Drugs': 946, 'Wanted': 947, 'The Light Between Oceans': 948, 'In Dubious Battle': 949, 'Andrea Arnold': 950, 'Dark Places': 951, 'The Girl on the Train': 952, 'Angry Birds': 953, 'Victor Frankenstein': 954, 'Kung Fu Panda': 955, 'Law Abiding Citizen': 956, 'Spotlight': 957, 'Elysium': 958, 'Liam Gavin': 959, 'Patrick Read Johnson': 960, 'Henry Joost': 961, 'Prisoners': 962, 'The Departed': 963, 'Michael J. Gallagher': 964, 'Just Go with It': 965, 'Harald Zwart': 966, 'Jeffrey G. Hunt': 967, 'A Good Year': 968, 'Hugo': 969, \"Daddy's Home\": 970, 'Robert Rodriguez': 971, 'Fury': 972, 'Glenn Ficarra': 973, 'Argo': 974, 'Star Trek': 975, 'Now You See Me': 976, 'X-Men: The Last Stand': 977, 'Sausage Party': 978, 'Chris McCoy': 979, 'Alexander and the Terrible, Horrible, No Good, Very Bad Day': 980, 'Cloud Atlas': 981, 'Shame': 982, 'Nima Nourizadeh': 983, 'Peyton Reed': 984, 'The Lego Movie': 985, 'Justin Kurzel': 986, 'Michael Dudok de Wit': 987, 'The Ridiculous 6': 988, 'Salt': 989, 'Zoolander 2': 990, 'Robert Luketic': 991, 'Godzilla': 992, 'Barry Jenkins': 993, 'Superbad': 994, 'Mel Gibson': 995, 'Children of Men': 996, 'Hisonni Johnson': 997, 'Sean Penn': 998, 'Jeff Wadlow': 999, 'Ken Loach': 1000, 'The Book of Life': 1001, 'Old Boy': 1002, 'Gabriele Muccino': 1003, 'David Ross': 1004, 'Ari Sandel': 1005, 'The A-Team': 1006, 'Sean Foley': 1007, 'Hancock': 1008, 'Knight of Cups': 1009, 'The Hobbit: The Battle of the Five Armies': 1010, 'George Nolfi': 1011, 'Thor': 1012, 'La La Land': 1013, 'Zodiac': 1014, 'Justin Kelly': 1015, 'Harmony Korine': 1016, 'Tom Hooper': 1017, 'Lasse Hallström': 1018, 'RocknRolla': 1019, 'Drew Goddard': 1020, 'Pan': 1021, 'Tony Scott': 1022, 'Seven Pounds': 1023, 'Mamma Mia!': 1024, 'George Miller': 1025, 'Mission: Impossible III': 1026, 'Steven Soderbergh': 1027, 'James Lapine': 1028, 'Kick-Ass 2': 1029, 'Lone Survivor': 1030, 'The Jungle Book': 1031, \"Pirates of the Caribbean: At World's End\": 1032, 'F. Gary Gray': 1033, 'J.D. Dillard': 1034, \"Assassin's Creed\": 1035, 'Tate Taylor': 1036, 'Bridesmaids': 1037, 'Paolo Genovese': 1038, 'No Country for Old Men': 1039, 'Michael Dowse': 1040, 'Star Trek Into Darkness': 1041, 'Brett Ratner': 1042, 'Sean Anders': 1043, 'Pierre Morel': 1044, 'Lone Scherfig': 1045, 'Gary Ross': 1046, 'Burr Steers': 1047, 'Phillip Noyce': 1048, 'How to Be Single': 1049, 'Hardcore Henry': 1050, 'Bryan Singer': 1051, \"Pirates of the Caribbean: Dead Man's Chest\": 1052, \"Ender's Game\": 1053, 'Enchanted': 1054, 'Jack Reacher': 1055, 'Grown Ups 2': 1056, 'Adam Shankman': 1057, 'Colin Strause': 1058, 'John Butler': 1059, 'Todor Chapkanov': 1060, 'The Infiltrator': 1061, 'Pixels': 1062, 'Insidious': 1063, 'John Hillcoat': 1064, 'Ruben Fleischer': 1065, 'Source Code': 1066, 'Anne Fletcher': 1067, 'Looper': 1068, 'Mark Williams': 1069, 'The Gift': 1070, 'Blue Jasmine': 1071, 'Her': 1072, 'Damien Chazelle': 1073, 'X: First Class': 1074, 'Into the Woods': 1075, 'The Equalizer': 1076, 'The Girl with the Dragon Tattoo': 1077, 'Jackson Stewart': 1078, 'Jon Lucas': 1079, 'Pirates of the Caribbean: On Stranger Tides': 1080, 'Jeff Nichols': 1081, 'Dominique Abel': 1082, 'The Hunger Games': 1083, 'Jon Hurwitz': 1084, 'Chris Columbus': 1085, 'Ted': 1086, 'Taylor Hackford': 1087, 'The Hollars': 1088, 'Tyler Shields': 1089, 'John Crowley': 1090, 'Hannes Holm': 1091, 'Miss Sloane': 1092, 'Death Race': 1093, 'Ethan Coen': 1094, 'William Oldroyd': 1095, 'Terence Davies': 1096, 'Adam Leon': 1097, 'Simon Verhoeven': 1098, 'Adoration': 1099, 'Michael Mann': 1100, 'Iron Man 2': 1101, 'Katie Holmes': 1102, 'Captain America: The Winter Soldier': 1103, 'Dan Berk': 1104, 'David Gordon Green': 1105, '12 Years a Slave': 1106, 'Abdellatif Kechiche': 1107, 'Sharon Maguire': 1108, 'Iron Man Three': 1109, 'Scot Armstrong': 1110, 'Olivier Nakache': 1111, 'The Twilight Saga: Breaking Dawn - Part 1': 1112, 'Ben Young': 1113, 'Phil Lord': 1114, 'Gary Winick': 1115, 'Point Break': 1116, 'Jalil Lespert': 1117, 'Office Christmas Party': 1118, 'Chan-wook Park': 1119, 'Femi Oyeniran': 1120, 'Inception': 1121, 'Hugo Gélin': 1122, 'Caleb Vetter': 1123, 'Zackary Adler': 1124, 'Florian Henckel von Donnersmarck': 1125, 'The Perks of Being a Wallflower': 1126, 'Gold': 1127, 'David F. Sandberg': 1128, 'Edgar Wright': 1129, 'Dan Kwan': 1130, 'Arrival': 1131, 'Doug Liman': 1132, 'Rawson Marshall Thurber': 1133, 'Olivier Assayas': 1134, 'Alfonso Cuarón': 1135, 'Pete Travis': 1136, 'Black Mass': 1137, 'Eagle Eye': 1138, 'The Prestige': 1139, 'Wes Craven': 1140, 'Elizabeth Wood': 1141, 'Peter Atencio': 1142, 'Alfonso Gomez-Rejon': 1143, 'The Great Gatsby': 1144, 'Lenny Abrahamson': 1145, 'Scott Derrickson': 1146, 'Henry Selick': 1147, 'Dallas Buyers Club': 1148, 'Spectre': 1149, 'Allen Coulter': 1150, 'Juan José Campanella': 1151, 'Casino Royale': 1152, 'Gillies MacKinnon': 1153, 'True Grit': 1154, 'Transformers': 1155, 'Allegiant': 1156, 'Steven R. Monroe': 1157, 'Gareth Edwards': 1158, 'Pedro Almodóvar': 1159, 'The Town': 1160, 'Michael Spierig': 1161, 'Nathan Morlando': 1162, 'Tom Six': 1163, 'Paul McGuigan': 1164, 'Chris Weitz': 1165, 'Akiva Schaffer': 1166, 'Ido Fluk': 1167, 'Dark Shadows': 1168, 'Marc Forster': 1169, 'Magic Mike': 1170, 'Forgetting Sarah Marshall': 1171, 'Crimson Peak': 1172, 'James Schamus': 1173, 'Will Slocombe': 1174, 'Morten Tyldum': 1175, 'The Incredible Hulk': 1176, 'Shane Black': 1177, 'Luc Besson': 1178, 'Malcolm D. Lee': 1179, 'Wes Ball': 1180, 'Fantastic Mr. Fox': 1181, 'Denzel Washington': 1182, 'Pineapple Express': 1183, 'Amber Tamblyn': 1184, 'Jonathan Liebesman': 1185, 'Asghar Farhadi': 1186, 'Rupert Wyatt': 1187, 'Kelly Fremon Craig': 1188, 'Concussion': 1189, 'Jupiter Ascending': 1190, 'Fabio Guaglione': 1191, 'Kung Fu Panda 3': 1192, 'Jérôme Salle': 1193, 'Moneyball': 1194, 'Zombieland': 1195, 'Anthony Russo': 1196, 'Sam Raimi': 1197, 'Oliver Stone': 1198, 'Terrence Malick': 1199, 'David Lowery': 1200, 'Triple 9': 1201, 'The Other Boleyn Girl': 1202, 'Christopher McQuarrie': 1203, \"The World's End\": 1204, 'Alan Taylor': 1205, 'Criminal': 1206, 'Anna Biller': 1207, 'Damián Szifron': 1208, 'Chris Wedge': 1209, 'John Moore': 1210, 'Måns Mårlind': 1211, 'Bong Joon Ho': 1212, 'Sang-ho Yeon': 1213, 'The Bourne Legacy': 1214, 'Their Finest': 1215, 'Dexter Fletcher': 1216, 'Maren Ade': 1217, 'Larry Charles': 1218, 'Baz Luhrmann': 1219, 'David Robert Mitchell': 1220, 'How to Train Your Dragon': 1221, 'Sherlock Holmes: A Game of Shadows': 1222, 'David Leveaux': 1223, 'The Dark Knight': 1224, 'Alexander Payne': 1225, 'David Cronenberg': 1226, 'Kenneth Lonergan': 1227, 'Steven Knight': 1228, 'Greg McLean': 1229, 'Mike Birbiglia': 1230, 'Matt Ross': 1231, 'Jake Schreier': 1232, 'Mr. Right': 1233, 'The Hunger Games: Catching Fire': 1234, 'The Book of Eli': 1235, 'Jim Sheridan': 1236, 'Interstellar': 1237, 'The Help': 1238, 'Alex Ranarivelo': 1239, 'X-Men: Apocalypse': 1240, 'Fast Five': 1241, 'Nitesh Tiwari': 1242, 'Simon Stone': 1243, 'Pete Docter': 1244, 'Timur Bekmambetov': 1245, 'Star Trek Beyond': 1246, 'Colin Trevorrow': 1247, 'Gauri Shinde': 1248, 'Harry Potter and the Half-Blood Prince': 1249, 'Roger Spottiswoode': 1250, 'So Yong Kim': 1251, 'Drive': 1252, 'Akan Satayev': 1253, 'Furious 6': 1254, 'Collateral Beauty': 1255, 'Shutter Island': 1256, 'Aamir Khan': 1257, 'Mateo Gil': 1258, 'The Lone Ranger': 1259, 'Phillip Guzman': 1260, 'Oriol Paulo': 1261, 'Gaspar Noé': 1262, 'Jee-woon Kim': 1263, 'Evan Goldberg': 1264, '10 Years': 1265, 'Mike Thurmeier': 1266, 'Taika Waititi': 1267, 'Nymphomaniac: Vol. II': 1268, 'Avatar': 1269, 'Corey Asraf': 1270, 'Barry Sonnenfeld': 1271, 'Julia Ducournau': 1272, 'Spy': 1273, 'Ross Katz': 1274, 'Eric Summer': 1275, 'Steven Shainberg': 1276, 'Andrew Jarecki': 1277, 'Mark Waters': 1278, 'Hong-jin Na': 1279, 'Justin Simien': 1280, 'Florian Gallenberger': 1281, 'John Lasseter': 1282, 'Kathryn Bigelow': 1283, 'Jake Kasdan': 1284, 'Jennifer Kent': 1285, 'The Danish Girl': 1286, 'Mira Nair': 1287, 'Jonathan Levine': 1288, 'Jordan Vogt-Roberts': 1289, 'David Frankel': 1290, 'Greg Berlanti': 1291, 'Joss Whedon': 1292, 'Bryan Bertino': 1293, 'Neighbors': 1294, 'Kingsman: The Secret Service': 1295, 'Micheal Bafaro': 1296, 'John Luessenhop': 1297, 'How to Train Your Dragon 2': 1298, 'Andy Fickman': 1299, 'Michael Hoffman': 1300, 'Thea Sharrock': 1301, 'James Wong': 1302, '22 Jump Street': 1303, 'Jonathan Holbrook': 1304, 'The Amazing Spider-Man 2': 1305, 'Hell or High Water': 1306, 'Les Misérables': 1307, 'Antonio Campos': 1308, 'Olivier Megaton': 1309, 'Rob Zombie': 1310, 'American Gangster': 1311, 'The Revenant': 1312, 'Lee Unkrich': 1313, 'Rich Moore': 1314, 'Makoto Shinkai': 1315, 'Gabor Csupo': 1316, 'John Francis Daley': 1317, 'Horrible Bosses 2': 1318, 'Leslye Headland': 1319, 'Martin McDonagh': 1320, 'Jeremy Saulnier': 1321, 'Mark Andrews': 1322, 'Stewart Hendler': 1323, 'Kyle Patrick Alvarez': 1324, 'Ben Falcone': 1325, 'This Is the End': 1326, 'Carles Torrens': 1327, 'Free Fire': 1328, 'Crazy, Stupid, Love.': 1329, 'Suicide Squad': 1330, 'Michael Patrick King': 1331, 'Boaz Yakin': 1332, 'Jean-François Richet': 1333, 'Men in Black 3': 1334, 'S.S. Rajamouli': 1335, 'J Blakeson': 1336, 'Mad Max: Fury Road': 1337, 'Jeremy Gillespie': 1338, 'Ryan Coogler': 1339, 'Bill Condon': 1340, 'Dennis Gansel': 1341, 'Noah': 1342, 'Terry George': 1343, 'Fantastic Four': 1344, 'Jon Watts': 1345, 'Karyn Kusama': 1346, 'Transformers: Revenge of the Fallen': 1347, 'Fred Wolf': 1348, 'Ivan Reitman': 1349, 'William Brent Bell': 1350, 'Peter Billingsley': 1351, 'Werner Herzog': 1352, 'Phil Claydon': 1353, 'The Do-Over': 1354, 'Rob Marshall': 1355, 'Jim Mickle': 1356, 'Iron Man': 1357, 'Christophe Gans': 1358, 'Michael Goi': 1359, 'Terry Jones': 1360, 'Kirsten Sheridan': 1361, 'Scott Cooper': 1362, 'Bobby Farrelly': 1363, 'Joseph Kosinski': 1364, 'Matthias Hoene': 1365, 'The Fighter': 1366, 'Gee Malik Linton': 1367, 'Ed Gass-Donnelly': 1368, 'Bruce A. Evans': 1369, 'Robert Eggers': 1370, 'Matt Brown': 1371, 'Chris Buck': 1372, 'Don Hall': 1373, 'London Has Fallen': 1374, 'Avengers: Age of Ultron': 1375, 'Tim Miller': 1376, 'Sam Taylor-Johnson': 1377, 'Divergent': 1378, 'Megamind': 1379, 'John Erick Dowdle': 1380, 'Mark Herman': 1381, 'Luke Scott': 1382, 'Tom Gormican': 1383, 'Colm McCarthy': 1384, 'Kimberly Peirce': 1385, 'Thor: The Dark World': 1386, 'Mario Van Peebles': 1387, 'Filip Renc': 1388, 'Focus': 1389, 'Alexandros Avranas': 1390, 'Snow White and the Huntsman': 1391, 'Josh Gordon': 1392, 'Andrey Kravchuk': 1393, 'Edge of Tomorrow': 1394, 'Claude Barras': 1395, 'Aisling Walsh': 1396, 'Furious Seven': 1397, 'Joel Edgerton': 1398, 'David R. Ellis': 1399, 'Tim Johnson': 1400, 'Nick Cassavetes': 1401, 'War on Everyone': 1402, 'Ewan McGregor': 1403, 'Harry Potter and the Deathly Hallows: Part 2': 1404, 'Jason Reitman': 1405, 'Mission: Impossible - Ghost Protocol': 1406, 'Steve Jobs': 1407, 'Sofia Coppola': 1408, 'Biyi Bandele': 1409, 'Hideaki Anno': 1410, 'Steven Quale': 1411, 'Mike Cahill': 1412, 'Nacho Vigalondo': 1413, 'David Ayer': 1414, 'Andy Tennant': 1415, 'Garry Marshall': 1416, 'John Hamburg': 1417, \"Gavin O'Connor\": 1418, 'Jonathan Jakubowicz': 1419, 'Pablo Larraín': 1420, 'Gus Van Sant': 1421, 'Transcendence': 1422, 'Fast & Furious': 1423, 'Collide': 1424, 'Rob Letterman': 1425, 'Genius': 1426, 'Todd Haynes': 1427, 'Jocelyn Moorhouse': 1428, 'Giuseppe Tornatore': 1429, 'Christopher Landon': 1430, 'Niels Arden Oplev': 1431, 'Doug Ellin': 1432, 'Shana Feste': 1433, 'Saul Dibb': 1434, 'Alice in Wonderland': 1435, 'Erik Van Looy': 1436, 'François Ozon': 1437, 'Harry Potter and the Deathly Hallows: Part 1': 1438, 'Michael Showalter': 1439, 'Patriots Day': 1440, 'Mark Mylod': 1441, 'Snowpiercer': 1442, 'R.J. Cutler': 1443, 'Alice Through the Looking Glass': 1444, 'Jim Jarmusch': 1445, 'Lawless': 1446, 'Lee Toland Krieger': 1447, 'Josh Boone': 1448, 'The Finest Hours': 1449, 'James Franco': 1450, 'Martin Koolhoven': 1451, 'Craig Brewer': 1452, 'David Schwimmer': 1453, 'Inferno': 1454, 'Richie Smyth': 1455, 'Jim Field Smith': 1456, 'Mick Jackson': 1457, 'Ava DuVernay': 1458, 'Naoko Yamada': 1459, 'Paul Verhoeven': 1460, 'Wrath of the Titans': 1461, 'The Wolf of Wall Street': 1462, 'X-Men: Days of Future Past': 1463, 'Patricia Rozema': 1464, 'Kyle Balda': 1465, 'Harry Potter and the Order of the Phoenix': 1466, 'John Wells': 1467, 'Nathan Greno': 1468, 'Atom Egoyan': 1469, 'Julia Leigh': 1470, 'The Big Short': 1471, \"The Huntsman: Winter's War\": 1472, 'Andrés Muschietti': 1473, 'Terry Gilliam': 1474, 'Chris Renaud': 1475, 'Jonathan Glazer': 1476, 'Levan Gabriadze': 1477, 'Dan Scanlon': 1478, 'Alex Garland': 1479, 'Yimou Zhang': 1480, 'Ken Kwapis': 1481, 'Now You See Me 2': 1482, 'Martin Campbell': 1483, 'Spike Lee': 1484, 'Stephen Frears': 1485, 'Contagion': 1486, 'David Twohy': 1487, 'Eleanor Coppola': 1488, 'Oz the Great and Powerful': 1489, 'Frank Miller': 1490, 'Amma Asante': 1491, '50/50': 1492, 'Dan Bradley': 1493, 'Courtney Hunt': 1494, 'Patrick Tatopoulos': 1495, 'Mike Newell': 1496, 'Patrick Hughes': 1497, 'Marcus Dunstan': 1498, 'Mora Stephens': 1499, 'Olympus Has Fallen': 1500, 'Zero Dark Thirty': 1501, 'Hot Fuzz': 1502, 'Mark Osborne': 1503, 'The Martian': 1504, 'Roman Polanski': 1505, 'Patricia Riggen': 1506, 'Albert Hughes': 1507, 'Ryûhei Kitamura': 1508, 'Afonso Poyart': 1509, 'Angelina Jolie': 1510, 'Garth Davis': 1511, 'The Avengers': 1512, 'S. Craig Zahler': 1513, 'Simon Aboud': 1514, 'The Hunger Games: Mockingjay - Part 1': 1515, 'Joseph Cedar': 1516, 'Rian Johnson': 1517, 'Walter Hill': 1518, 'Daniel Ragussis': 1519, 'Dan Trachtenberg': 1520, 'Philippe Falardeau': 1521, 'Etan Cohen': 1522, 'Neighbors 2: Sorority Rising': 1523, 'David Dobkin': 1524, 'Tom Ford': 1525, 'Mark Steven Johnson': 1526, 'Gary Michael Schultz': 1527, 'Andrew Dominik': 1528, 'Brad Furman': 1529, 'Julie Taymor': 1530, 'Michael Haneke': 1531, 'Farren Blackburn': 1532, 'Gregory Jacobs': 1533, 'James Mangold': 1534, 'Oblivion': 1535, 'Stephen Sommers': 1536, 'Nimród Antal': 1537, 'Jodie Foster': 1538, 'Miguel Arteta': 1539, 'François Simard': 1540, 'Tom McCarthy': 1541, 'Mission: Impossible - Rogue Nation': 1542, 'Man Down': 1543, 'Exodus: Gods and Kings': 1544, 'Scott Waugh': 1545, 'Dan Mazer': 1546, 'Mike Mills': 1547, 'Spike Jonze': 1548, 'Michaël R. Roskam': 1549, 'James Ward Byrkit': 1550, 'Alejandro Amenábar': 1551, 'James Gray': 1552, 'Jon Kasdan': 1553, 'Joseph Gordon-Levitt': 1554, 'Byron Howard': 1555, 'Breck Eisner': 1556, 'Jaco Van Dormael': 1557, 'James Marsh': 1558, 'Mike Judge': 1559, 'Bruce Beresford': 1560, 'Drake Doremus': 1561, 'Sing': 1562, 'Simon Curtis': 1563, 'Ben Younger': 1564, 'The Dark Knight Rises': 1565, 'Max Joseph': 1566, 'Jonathan Dayton': 1567, 'Stephen Fingleton': 1568, 'Neil Marshall': 1569, 'Anne Fontaine': 1570, 'Matteo Garrone': 1571, 'Dean DeBlois': 1572, 'Nancy Meyers': 1573, 'Joe Carnahan': 1574, 'Asger Leth': 1575, 'Scott Frank': 1576, 'Alex Proyas': 1577, 'Gilles Paquet-Brenner': 1578, 'Chris Evans': 1579, 'Joy': 1580, 'Gary Shore': 1581, 'Rick Famuyiwa': 1582, 'Lynne Ramsay': 1583, 'Nic Mathieu': 1584, 'Srdjan Spasojevic': 1585, 'American Hustle': 1586, 'Ana Lily Amirpour': 1587, 'Kevin Lima': 1588, 'Daniel Espinosa': 1589, 'Gregory Wilson': 1590, 'Sean Ellis': 1591, 'David Mackenzie': 1592, 'Anna Foerster': 1593, 'Jorge R. Gutiérrez': 1594, 'Theodore Melfi': 1595, 'Billy Ray': 1596, 'Genndy Tartakovsky': 1597, 'Andy Goddard': 1598, 'André Øvredal': 1599, 'Joe Johnston': 1600, 'Simon West': 1601, 'Cary Joji Fukunaga': 1602, 'Gregory Hoblit': 1603, 'Ilya Naishuller': 1604, 'Seth Gordon': 1605, 'In the Heart of the Sea': 1606, 'Scott Stewart': 1607, 'John Madden': 1608, 'Whit Stillman': 1609, 'Out of the Furnace': 1610, 'Paco Cabezas': 1611, 'Paolo Sorrentino': 1612, 'John Krasinski': 1613, 'Luca Guadagnino': 1614, 'Up in the Air': 1615, 'Stephen Chbosky': 1616, 'Noam Murro': 1617, 'Walt Dohrn': 1618, 'Carlos Saldanha': 1619, 'John Michael McDonagh': 1620, 'David Slade': 1621, 'Wally Pfister': 1622, 'Sherlock Holmes': 1623, 'Ericson Core': 1624, 'Warren Beatty': 1625, 'Richard Curtis': 1626, 'Steven Brill': 1627, 'Baltasar Kormákur': 1628, 'Dave Green': 1629, 'Tony Gilroy': 1630, 'Michael Grandage': 1631, 'José Padilha': 1632, 'Jon S. Baird': 1633, 'Bennett Miller': 1634, 'James Bobin': 1635, 'Dan Gilroy': 1636, 'Robert Stromberg': 1637, 'Ash Brannon': 1638, 'Stephen Gaghan': 1639, 'Christophe Lourdelet': 1640, 'Catherine Hardwicke': 1641, 'Josh Trank': 1642, 'Jared Hess': 1643, 'Juan Carlos Fresnadillo': 1644, 'Chad Stahelski': 1645, 'Jake Szymanski': 1646, 'Alessandro Carloni': 1647, 'Jamie Linden': 1648, 'Clay Kaytis': 1649, 'Jemaine Clement': 1650, 'Peter Landesman': 1651, 'Dito Montiel': 1652, 'The Hunger Games: Mockingjay - Part 2': 1653, 'Rupert Sanders': 1654, 'Sergei Bodrov': 1655, 'James Ponsoldt': 1656, 'James Watkins': 1657, 'Cedric Nicolas-Troyan': 1658, 'Ariel Vromen': 1659, 'James Cameron': 1660, 'Tomas Alfredson': 1661, 'Eran Creevy': 1662, 'Brad Peyton': 1663, 'Phyllida Lloyd': 1664, 'Greg Tiernan': 1665, 'Christian Alvart': 1666, 'Travis Knight': 1667, 'Justin Chadwick': 1668, 'Lana Wachowski': 1669, 'Babak Najafi': 1670, 'Tom McGrath': 1671, 'Craig Gillespie': 1672, ' Alan Alda': 1673, 'Olivia Wilde': 1674, ' Marcia Gay Harden': 1675, 'Colin Firth': 1676, 'Sandra Bullock': 1677, ' Yutaka Takenouchi': 1678, 'Rhona Mitra': 1679, ' Ophelia Lovibond': 1680, 'Christian Bale': 1681, ' Julie Walters': 1682, ' Teresa Navarro': 1683, 'Heather Sossaman': 1684, ' Dan Byrd': 1685, ' Duncan Joiner': 1686, ' Saori Hayami': 1687, 'Jeremy Irvine': 1688, ' Ansel Elgort': 1689, ' Thomas Bo Larsen': 1690, ' McCaul Lombardi': 1691, 'Abigail Breslin': 1692, ' Do-won Kwak': 1693, ' Sarah Silverman': 1694, ' Jackson Rathbone': 1695, ' Susan Loughnane': 1696, ' Molly Ringwald': 1697, 'Arnold Schwarzenegger': 1698, 'Tom Hanks': 1699, ' Rose Byrne': 1700, ' Golshifteh Farahani': 1701, 'Elisabeth Moss': 1702, 'Sam Worthington': 1703, ' Mark Wahlberg': 1704, 'Gabriel Chavarria': 1705, ' Jesse Plemons': 1706, ' Anna Friel': 1707, 'Ruth Negga': 1708, 'Benjamin Walker': 1709, ' Julie Benz': 1710, ' Rostislav Bershauer': 1711, ' Rodrigo Santoro': 1712, ' Jennifer Garner': 1713, ' Colin Firth': 1714, 'Olivia DeJonge': 1715, ' Steve Wiebe': 1716, ' William Fichtner': 1717, 'Larenz Tate': 1718, ' Gil Birmingham': 1719, 'Fiona Gordon': 1720, 'Ben Whishaw': 1721, ' Scott Mescudi': 1722, ' Jim Norton': 1723, ' Anthony Anderson': 1724, ' Catherine Keener': 1725, ' Ari Graynor': 1726, ' Lucy Walters': 1727, ' Noel Fisher': 1728, 'Saoirse Ronan': 1729, 'Melissa McCarthy': 1730, ' Samuel L. Jackson': 1731, 'Faith Wladyka': 1732, ' Kevin Leslie': 1733, ' Marlon Wayans': 1734, 'Joshua Leonard': 1735, 'Shameik Moore': 1736, ' Jason Mitchell': 1737, ' Lily Rabe': 1738, 'Paddy Considine': 1739, 'Romain Duris': 1740, 'Don Cheadle': 1741, 'Jason Biggs': 1742, ' Vanessa Hudgens': 1743, ' Forest Whitaker': 1744, 'Jeremy Renner': 1745, ' Joel McHale': 1746, 'Joaquin Phoenix': 1747, ' Brit Marling': 1748, 'Morjana Alaoui': 1749, ' F. Murray Abraham': 1750, ' Daniel Craig': 1751, 'Maika Monroe': 1752, ' Alex Pettyfer': 1753, ' Ella Anderson': 1754, ' Paul Dano': 1755, ' Elizabeth Henstridge': 1756, ' Christian Distefano': 1757, ' Aaron Eckhart': 1758, ' Nicholas Galitzine': 1759, 'Shareeka Epps': 1760, 'Daniel Fathers': 1761, ' Ólafur Darri Ólafsson': 1762, ' Sean Penn': 1763, ' Kunal Kapoor': 1764, ' Daniel Radcliffe': 1765, ' Jo Hartley': 1766, 'Jonah Hill': 1767, ' Gabriela Lopez': 1768, ' Jack Nicholson': 1769, 'Daniel Day-Lewis': 1770, 'Kit Harington': 1771, ' Raffey Cassidy': 1772, 'Neel Sethi': 1773, 'Natalie Portman': 1774, \"Fionn O'Shea\": 1775, ' Oaklee Pendergast': 1776, 'Rolf Lassgård': 1777, 'Cheryl Hines': 1778, 'Michael Caine': 1779, 'Lucas Till': 1780, ' Valerie Mahaffey': 1781, 'Jason Bateman': 1782, ' Christian Bale': 1783, ' Lia Marie Johnson': 1784, \" Zac Mattoon O'Brien\": 1785, ' Gemma Jones': 1786, ' Danny McBride': 1787, ' Chris Pine': 1788, ' Peyton List': 1789, ' Wenwen Han': 1790, ' Mariah Carey': 1791, 'Blake Lively': 1792, ' Mia Goth': 1793, 'Adelaide Kane': 1794, ' Jason Statham': 1795, ' Miles Heizer': 1796, ' Tiffany Haddish': 1797, 'Morgan Saylor': 1798, 'Christopher Meyer': 1799, 'Mila Kunis': 1800, ' Bel Powley': 1801, ' Janet McTeer': 1802, ' Jessica Lucas': 1803, ' Kate Bosworth': 1804, ' Tom Wilkinson': 1805, ' Nadine Velazquez': 1806, ' Chadwick Boseman': 1807, ' Don Thompson': 1808, 'Malcolm McDowell': 1809, ' Kate Beckinsale': 1810, ' Tyne Daly': 1811, ' Moises Arias': 1812, ' Corbin Reid': 1813, ' Tracy Letts': 1814, ' Mindy Kaling': 1815, ' Ralph Ineson': 1816, ' Gael García Bernal': 1817, ' Drew Seeley': 1818, ' Douglas M. Griffin': 1819, 'Michael Stuhlbarg': 1820, ' Isla Fisher': 1821, ' Pierre Coffin': 1822, ' Bahar Pars': 1823, ' Mel Raido': 1824, ' Sam Riley': 1825, ' Portia Doubleday': 1826, ' Greta Gerwig': 1827, ' Kristin Davis': 1828, 'Isaiah Stone': 1829, ' Marie Gruber': 1830, 'Rudy Youngblood': 1831, 'Ronnie Gene Blevins': 1832, 'Justin Timberlake': 1833, ' Michael Gambon': 1834, 'Mike Vogel': 1835, ' Aleksandr Armer': 1836, 'Lily Collins': 1837, ' Rupert Evans': 1838, 'Gabriella Wilde': 1839, ' Rihanna': 1840, ' Matthew Marsden': 1841, ' Brad Pitt': 1842, ' Andrew Howard': 1843, ' Peter Dinklage': 1844, ' Karl Markovics': 1845, ' Gian Keys': 1846, ' Laine Megaw': 1847, ' Mark Ruffalo': 1848, ' Aasif Mandvi': 1849, ' Florence Kastriner': 1850, 'Alice Englert': 1851, ' Logan Huffman': 1852, 'Shone Romulus': 1853, ' Michael McDonald': 1854, ' Haley Joel Osment': 1855, ' Ian McKellen': 1856, ' Sam Rockwell': 1857, ' Anushka Sharma': 1858, 'Sophie Nélisse': 1859, ' Dean Waite': 1860, ' Josh Wiggins': 1861, 'Andie MacDowell': 1862, ' Zoey Deutch': 1863, 'Alicia Vikander': 1864, 'Essie Davis': 1865, \" De'Shawn Washington\": 1866, ' Cary Joji Fukunaga': 1867, ' Cynthia Nixon': 1868, ' Tilda Swinton': 1869, 'Satomi Ishihara': 1870, 'James Cosmo': 1871, ' Peter Facinelli': 1872, ' David Oyelowo': 1873, 'Colton Haynes': 1874, ' Ivo Nandi': 1875, 'Lily James': 1876, ' John Turturro': 1877, 'Kathy Baker': 1878, 'Dale Dickey': 1879, 'Gary Oldman': 1880, ' Kim Cattrall': 1881, ' Christina Applegate': 1882, ' Joe Anderson': 1883, 'Logan Lerman': 1884, ' Susan Sarandon': 1885, ' Charlotte Gainsbourg': 1886, 'Jae Head': 1887, 'Billy Connolly': 1888, ' Michael Wittenborn': 1889, ' Ethan Hawke': 1890, 'Omar Sy': 1891, ' Ryan Guzman': 1892, 'Jean-Claude Van Damme': 1893, ' Oona Chaplin': 1894, ' Angeliki Papoulia': 1895, ' Chris Wedge': 1896, ' Josh Brolin': 1897, ' Morgan Freeman': 1898, ' Emma Watson': 1899, ' Robert Pattinson': 1900, 'Noomi Rapace': 1901, ' Robbie Amell': 1902, ' Kevin Costner': 1903, ' Richard Kind': 1904, ' Max Irons': 1905, 'Dave Bautista': 1906, ' Lauren Holly': 1907, ' John Malkovich': 1908, 'Jake Johnson': 1909, ' Katherine Heigl': 1910, ' Rachel Weisz': 1911, 'Aaron Taylor-Johnson': 1912, ' Karolina Gruszka': 1913, 'Michael Chiklis': 1914, ' Danny DeVito': 1915, ' Dakota Goyo': 1916, 'Rainn Wilson': 1917, ' Ariel Levy': 1918, ' Benicio Del Toro': 1919, ' Thandie Newton': 1920, 'Benedict Cumberbatch': 1921, ' Barkhad Abdirahman': 1922, ' Antoine Bertrand': 1923, 'Vinnie Jones': 1924, ' Johnny Simmons': 1925, 'Dwayne Johnson': 1926, ' Graham McTavish': 1927, 'Jake Gyllenhaal': 1928, ' Carla Gugino': 1929, 'David Lyons': 1930, 'Logan Marshall-Green': 1931, 'Joe Alwyn': 1932, ' Hunter McCracken': 1933, ' Nat Wolff': 1934, ' Dong-seok Ma': 1935, ' Ving Rhames': 1936, ' Bella Heathcote': 1937, ' Justin Long': 1938, ' Linda Cardellini': 1939, ' Kylie Rogers': 1940, ' Linh Dan Pham': 1941, 'Ferdia Walsh-Peelo': 1942, 'Kate Hudson': 1943, ' Pierce Brosnan': 1944, ' Jonny Brugh': 1945, ' Anthony Hopkins': 1946, 'Thomas Loibl': 1947, ' Charlie Hunnam': 1948, ' Ruby Barnhill': 1949, ' Brandon T. Jackson': 1950, ' Angelina Jolie': 1951, ' Brian Howe': 1952, ' Mary McCormack': 1953, 'Craig T. Nelson': 1954, 'Danielle Panabaker': 1955, ' Zachery Ty Bryan': 1956, ' Andy Lau': 1957, ' Jeremy Irvine': 1958, ' Kate Upton': 1959, ' Lorraine Nicholson': 1960, ' Blake Jenner': 1961, ' Ayse Howard': 1962, 'Timothy Spall': 1963, ' Ida Engvoll': 1964, ' Milo Ventimiglia': 1965, \" Vincent D'Onofrio\": 1966, ' Jodie Foster': 1967, ' Michael Pitt': 1968, ' Matt Long': 1969, ' Charles S. Dutton': 1970, ' Alex Essoe': 1971, ' Ed Skrein': 1972, 'Robert Patrick': 1973, ' Christopher Plummer': 1974, ' Mark Boone Junior': 1975, ' John Alexander': 1976, ' Samantha Isler': 1977, 'Alfred Molina': 1978, ' Selma Blair': 1979, ' Bill Paxton': 1980, ' Colin Quinn': 1981, ' Marion Cotillard': 1982, ' Moon Bloodgood': 1983, 'Dominic West': 1984, ' Ana de Armas': 1985, ' Garrett M. Brown': 1986, 'Karen Disher': 1987, ' Branden Coles': 1988, ' Kevin Connolly': 1989, 'Ellie Kendrick': 1990, 'Rebecca Hall': 1991, 'Lesley Manville': 1992, 'Stellan Skarsgård': 1993, ' Jim Carrey': 1994, ' Analeigh Tipton': 1995, ' Kagiso Kuypers': 1996, ' Aldis Hodge': 1997, ' Britt Robertson': 1998, ' Jeff Garlin': 1999, ' Dougie McConnell': 2000, ' Sam Worthington': 2001, ' Bill Pullman': 2002, 'Robin Wright': 2003, ' Shia LaBeouf': 2004, 'Dieter Laser': 2005, 'Freddie Highmore': 2006, ' Olivia Moyles': 2007, 'Donald Sutherland': 2008, ' Stacy Martin': 2009, 'Suraj Sharma': 2010, 'Teresa Palmer': 2011, ' Diane Kruger': 2012, ' George MacKay': 2013, 'Ellar Coltrane': 2014, 'Tom Mison': 2015, ' Jason Schwartzman': 2016, 'T.J. Miller': 2017, ' Mateo Arias': 2018, 'Keegan-Michael Key': 2019, ' Vanessa Lachey': 2020, 'Katy Barker': 2021, ' Topher Grace': 2022, 'Florence Pugh': 2023, 'Michael Dickson': 2024, ' Antonia Ribero': 2025, ' Natalie Krill': 2026, \" Beverly D'Angelo\": 2027, ' Christopher Mintz-Plasse': 2028, ' Ben Walker': 2029, ' Cush Jumbo': 2030, ' Paul Giamatti': 2031, ' Kati Outinen': 2032, ' Sam Claflin': 2033, ' Benedict Cumberbatch': 2034, ' Jai Courtney': 2035, ' Sarita Choudhury': 2036, ' Will Ferrell': 2037, ' Lou Romano': 2038, 'Adam Brody': 2039, ' Maggie Gyllenhaal': 2040, ' Michael C. Hall': 2041, 'Jack Huston': 2042, 'James Marsden': 2043, ' Rose McGowan': 2044, ' Michael Parks': 2045, 'Kristen Wiig': 2046, ' Ariadna Gil': 2047, ' Briana Shann': 2048, ' Bee Vang': 2049, 'Farid Sajjadi Hosseini': 2050, 'Ray Romano': 2051, ' Chris Pratt': 2052, ' Bill Engvall': 2053, 'Melanie Lynskey': 2054, ' Michelle Pfeiffer': 2055, 'Emmanuelle Riva': 2056, 'Anna Kendrick': 2057, 'Ricardo Darín': 2058, ' Neil Patrick Harris': 2059, ' Aoi Yuki': 2060, 'Robert Toupin': 2061, 'James Hamrick': 2062, 'Christopher Mintz-Plasse': 2063, 'Lauren Cohan': 2064, ' Dax Flame': 2065, 'Thomas Haden Church': 2066, 'Emory Cohen': 2067, ' Arielle Holmes': 2068, ' Lulu Wilson': 2069, 'Andrew Garfield': 2070, 'Ed Helms': 2071, 'Tony Amendola': 2072, ' Thomas Haden Church': 2073, ' Damaine Radcliff': 2074, ' Phylicia Rashad': 2075, ' Ty Simpkins': 2076, ' Dave Bautista': 2077, 'Frank Grillo': 2078, ' Zoë Kravitz': 2079, ' Katie Holmes': 2080, ' Helena Bonham Carter': 2081, 'Mahershala Ali': 2082, ' Steve Carell': 2083, ' Kiersey Clemons': 2084, ' Evan Rachel Wood': 2085, ' Sean Bridgers': 2086, 'Elijah Wood': 2087, 'Ezra Miller': 2088, 'Brittany Blanton': 2089, 'Olivia Colman': 2090, ' André Marcon': 2091, ' Kieran Culkin': 2092, ' Richard Gere': 2093, 'Rosamund Pike': 2094, ' Kristen Bell': 2095, ' Mélanie Laurent': 2096, ' Dane Cook': 2097, 'Scott Eastwood': 2098, ' Larry the Cable Guy': 2099, ' Brady Corbet': 2100, ' Kay Whitney': 2101, \" Jason O'Mara\": 2102, ' Diego Luna': 2103, ' Laura Dern': 2104, 'Michael Fassbender': 2105, ' Patrick Wilson': 2106, ' Rachel House': 2107, ' Charlie Day': 2108, 'Sally Field': 2109, ' Clifton Collins Jr.': 2110, 'Melissa George': 2111, 'Isabelle Huppert': 2112, ' Kate McKinnon': 2113, 'Michelle Pfeiffer': 2114, ' Corey Stoll': 2115, ' Emily Blunt': 2116, ' Garrett Hedlund': 2117, ' Jorge Garcia': 2118, 'Mark Strong': 2119, 'Kristen Bell': 2120, 'Robert Duvall': 2121, ' Rebel Wilson': 2122, 'Sam Neill': 2123, 'Teyonah Parris': 2124, ' Naomie Harris': 2125, ' Rita Cortese': 2126, ' Jeff Daniels': 2127, 'Chiwetel Ejiofor': 2128, ' Léa Seydoux': 2129, 'Jennifer Aniston': 2130, ' Chris Messina': 2131, ' Donna Murphy': 2132, ' Danila Kozlovsky': 2133, ' Kate Siegel': 2134, ' Sanjeev Bhaskar': 2135, ' Penelope Wilton': 2136, 'Kurt Russell': 2137, ' Elizabeth Olsen': 2138, ' Haley Lu Richardson': 2139, ' Gemma Ward': 2140, 'Logan Paul': 2141, 'Ellen DeGeneres': 2142, ' Ruth Wilson': 2143, ' America Ferrera': 2144, ' Judy Davis': 2145, ' Yu-mi Jung': 2146, 'Mary-Louise Parker': 2147, ' Gregg Weiner': 2148, ' Bryce Dallas Howard': 2149, 'Vincent Cassel': 2150, 'Hayley Atwell': 2151, ' Sheila Kelley': 2152, 'Sullivan Stapleton': 2153, ' Joel Kinnaman': 2154, ' Halle Berry': 2155, ' Julian Richings': 2156, ' Alex R. Hibbert': 2157, ' Pierre Richard': 2158, ' Taylor Kitsch': 2159, 'Cori Gonzalez-Macuer': 2160, ' Babak Karimi': 2161, ' Maude Apatow': 2162, ' Kevin Nealon': 2163, 'Aidan Quinn': 2164, ' Bill Murray': 2165, ' Kyle Gallner': 2166, ' Justin Chon': 2167, ' Max Burkholder': 2168, ' Bruno Campos': 2169, 'Graham Skipper': 2170, 'Ray Winstone': 2171, ' Rebecca Hall': 2172, \"Jack O'Connell\": 2173, ' Gabriel Byrne': 2174, ' Iain Glen': 2175, ' Iris Apatow': 2176, ' Bonnie Hunt': 2177, 'Nicole Beharie': 2178, ' Clémence Poésy': 2179, ' Ruta Gedmintas': 2180, 'Taron Egerton': 2181, 'Tye Sheridan': 2182, ' Anna Foglietta': 2183, ' Shad Moss': 2184, ' Alon Aboutboul': 2185, ' Jasper Newell': 2186, 'Ving Rhames': 2187, 'Michael Ealy': 2188, ' Mary Steenburgen': 2189, ' Ashley C. Williams': 2190, ' Steele Stebbins': 2191, ' Corey Hawkins': 2192, ' Mike Vogel': 2193, ' Noomi Rapace': 2194, ' Madeleine West': 2195, ' Judi Dench': 2196, ' Ben Whishaw': 2197, 'Adrian Grenier': 2198, ' Kathleen Munroe': 2199, ' Richard Armitage': 2200, ' Ellie Kendrick': 2201, ' Kevin Spacey': 2202, 'Jon Bernthal': 2203, 'Jared Padalecki': 2204, ' Shea Adams': 2205, ' Michael Nyqvist': 2206, ' Damon Wayans Jr.': 2207, ' Gary Oldman': 2208, ' Daniella Kertesz': 2209, ' Michael Fassbender': 2210, ' Aamir Khan': 2211, ' Anthony Mackie': 2212, ' Rene Russo': 2213, ' Patricia Clarkson': 2214, 'Bryan Cranston': 2215, ' Rory J. Saper': 2216, ' Anna Faris': 2217, ' Jason Momoa': 2218, ' Alden Ehrenreich': 2219, ' Joey Lauren Adams': 2220, 'Garance Marillier': 2221, ' Armie Hammer': 2222, 'Edgar Ramírez': 2223, 'Jamal Woolard': 2224, ' Michael Kelly': 2225, 'Paul Bettany': 2226, 'Byung-hun Lee': 2227, 'Hayden Christensen': 2228, ' Skyler Gisondo': 2229, 'Jim Broadbent': 2230, ' Imelda Staunton': 2231, 'Ginnifer Goodwin': 2232, 'Simona Stasová': 2233, ' Hailee Steinfeld': 2234, ' Kiernan Shipka': 2235, ' Danny Glover': 2236, ' Adam Driver': 2237, ' Jessica Lange': 2238, ' Leehom Wang': 2239, 'Alison Brie': 2240, ' Jim Sturgess': 2241, ' Jeremy Irons': 2242, ' Daniel Henshall': 2243, ' Tony Goldwyn': 2244, 'Josh Stewart': 2245, 'Sean Faris': 2246, ' Pablo Rago': 2247, ' Jovan Adepo': 2248, ' Alain Moussi': 2249, ' Eve': 2250, ' Haley Bennett': 2251, ' Emmy Rossum': 2252, ' Zach Grenier': 2253, 'Ahney Her': 2254, 'Liam Hemsworth': 2255, 'Andy Samberg': 2256, 'Miyu Irino': 2257, ' Bill Nighy': 2258, ' Hugh Grant': 2259, ' Joe Manganiello': 2260, ' James Badge Dale': 2261, ' Tony Revolori': 2262, 'Mark Rylance': 2263, 'Brian White': 2264, ' Thomas Jane': 2265, 'Katherine Heigl': 2266, ' Toni Collette': 2267, ' Aurélien Recoing': 2268, ' Stephen Henderson': 2269, ' Anushka Shetty': 2270, ' Rip Torn': 2271, ' Billy Crudup': 2272, 'Nicole Kidman': 2273, ' Wyatt Russell': 2274, ' Taron Egerton': 2275, ' Vin Diesel': 2276, ' Rotimi': 2277, ' David James': 2278, ' Katey Sagal': 2279, ' Bárbara Lennie': 2280, ' John Leguizamo': 2281, ' Rubén Blades': 2282, ' Tony Shalhoub': 2283, ' Cassie Ventura': 2284, ' Amy Adams': 2285, ' Melissa Benoist': 2286, ' Cosmo Jarvis': 2287, 'Stuart Graham': 2288, ' Christopher Fairbank': 2289, ' Richard Garcia': 2290, ' Jeffrey Wright': 2291, ' Kofi Siriboe': 2292, 'Sarah Butler': 2293, ' Shiloh Fernandez': 2294, 'Jena Malone': 2295, ' Isabelle Fuhrman': 2296, 'Harrison Ford': 2297, 'Miles Teller': 2298, 'Bradley Cooper': 2299, 'Zac Efron': 2300, 'Min-hee Kim': 2301, ' Morena Baccarin': 2302, ' Jonathan Daniel Brown': 2303, ' Taylor Lautner': 2304, 'Joel Kinnaman': 2305, ' Russell Brand': 2306, 'Michael Vartan': 2307, ' John Doman': 2308, 'Dev Patel': 2309, 'Amber Perkins': 2310, ' Gina Carano': 2311, 'Edward Asner': 2312, ' Allison Janney': 2313, 'Sophie Okonedo': 2314, 'Eloise Mumford': 2315, ' Jack Black': 2316, 'Jamie Dornan': 2317, 'Craig Van Hook': 2318, ' Courteney Cox': 2319, ' Aaron Yoo': 2320, 'Antonio Banderas': 2321, ' Hans Matheson': 2322, ' Pablo Schreiber': 2323, 'Emilia Clarke': 2324, 'Tom Cullen': 2325, 'Diego Klattenhoff': 2326, 'Emma Greenwell': 2327, ' Kevin Hart': 2328, 'Alia Shawkat': 2329, ' Camille Cottin': 2330, 'Ryoko Seta': 2331, ' Jan Cornet': 2332, ' Donald Sutherland': 2333, 'Reese Witherspoon': 2334, ' Lili Taylor': 2335, 'Travis Tope': 2336, ' Kelly Adams': 2337, ' C.H. Evans': 2338, ' Burt Young': 2339, ' Taika Waititi': 2340, 'Isabella Rossellini': 2341, ' George Clooney': 2342, ' Alison Sudol': 2343, ' Doug Jones': 2344, 'Dan Stevens': 2345, ' George Lopez': 2346, 'Maribel Verdú': 2347, 'Edith Scob': 2348, ' Lara Pulver': 2349, ' Bokeem Woodbine': 2350, 'Gabriel Basso': 2351, ' 50 Cent': 2352, ' Seth MacFarlane': 2353, 'Bryce Dallas Howard': 2354, ' Salim Kechiouche': 2355, ' Gedeon Burkhard': 2356, ' Karen Moskow': 2357, 'Mandy Moore': 2358, ' Chloë Sevigny': 2359, 'Chris Isaak': 2360, 'Dakota Johnson': 2361, ' Tom Cruise': 2362, ' John Boyega': 2363, ' Brian Marc': 2364, 'Gemma Arterton': 2365, ' Elena Anaya': 2366, ' Rachael Blake': 2367, 'Jim Sturgess': 2368, ' Freida Pinto': 2369, ' Wendi McLendon-Covey': 2370, 'Matt Vael': 2371, 'James Kelley': 2372, 'Viola Davis': 2373, ' Simon Pegg': 2374, ' Riley Keough': 2375, 'Robert De Niro': 2376, 'Mélanie Laurent': 2377, ' Jessica Sula': 2378, ' Michael Rooker': 2379, ' Eric Bana': 2380, 'Chris Hemsworth': 2381, ' Clive Owen': 2382, ' Sebastian Pigott': 2383, 'Brenton Thwaites': 2384, 'Wesley Elder': 2385, 'Jemima West': 2386, ' Rooney Mara': 2387, ' Christian Slater': 2388, 'Josh Brolin': 2389, ' Jordan Nagai': 2390, ' Adrian Grenier': 2391, ' William Moseley': 2392, ' Vincent Kartheiser': 2393, ' Allen Leech': 2394, ' Charlize Theron': 2395, 'Sacha Baron Cohen': 2396, ' Queen Latifah': 2397, ' Rachel Blanchard': 2398, ' Mila Kunis': 2399, ' Ed Helms': 2400, ' Tobias Menzies': 2401, ' Tabu': 2402, ' Lucas Till': 2403, ' Natascha McElhone': 2404, 'Eddie Murphy': 2405, ' Dolph Lundgren': 2406, 'Steve Zahn': 2407, 'Anthony Edwards': 2408, ' Ben Foster': 2409, ' Brandon Scott': 2410, 'Fran Kranz': 2411, ' Elizabeth Banks': 2412, 'Travis Fimmel': 2413, ' Joaquin Phoenix': 2414, 'Michael Mantell': 2415, ' Nicolas Cage': 2416, ' Duncan Duff': 2417, ' Eva Green': 2418, ' Robert Sheehan': 2419, ' Zoe Saldana': 2420, ' Dylan Minnette': 2421, ' Sienna Guillory': 2422, 'Nicolas Cage': 2423, ' Robert Knepper': 2424, ' James Floyd': 2425, \"Vincent D'Onofrio\": 2426, ' Lena Headey': 2427, 'Dave Johns': 2428, ' Tao Okamoto': 2429, ' Ewen Leslie': 2430, ' Colm Meaney': 2431, 'Taraji P. Henson': 2432, ' Madison Wolfe': 2433, ' Audrey Tautou': 2434, 'Darsheel Safary': 2435, ' Anil Kapoor': 2436, 'Patrick Stewart': 2437, 'Emma Stone': 2438, ' Jeff Goldblum': 2439, 'Guy Pearce': 2440, ' Jennifer Saunders': 2441, ' Jennifer Connelly': 2442, ' John Hawkes': 2443, ' Tony Danza': 2444, ' Teodora Duhovnikova': 2445, 'Anders Holm': 2446, ' Lars Eidinger': 2447, ' Peter Riegert': 2448, 'Mark Wahlberg': 2449, 'Neve Campbell': 2450, ' Jane Fonda': 2451, 'Lewis MacDougall': 2452, 'Kevin Chamberlin': 2453, 'Adrien Brody': 2454, ' Carrie-Anne Moss': 2455, ' Christopher McDonald': 2456, ' Paul Walker': 2457, ' John Cullum': 2458, ' James Marsters': 2459, ' Osric Chau': 2460, ' Anne Consigny': 2461, 'Anthony LaPaglia': 2462, ' Lucy Hale': 2463, ' Devon Bostick': 2464, ' Yun-Fat Chow': 2465, ' Maddie Ziegler': 2466, 'Erika Linder': 2467, ' Sanjay Dutt': 2468, ' Lorraine Toussaint': 2469, ' Jonah Hill': 2470, 'Tom Cruise': 2471, ' Eli Roth': 2472, 'Samantha Sloyan': 2473, ' Andrea Whitburn': 2474, ' Matthias Schoenaerts': 2475, 'Scott Lawrence': 2476, ' Sue Dahlman': 2477, 'Katherine Waterston': 2478, ' David Arquette': 2479, 'Nathalie Baye': 2480, ' Lucy Boynton': 2481, ' Harvey Keitel': 2482, ' Hayley McElhinney': 2483, ' Emayatzy Corinealdi': 2484, ' Storm Acheche Sahlstrøm': 2485, 'Karen Gillan': 2486, 'Mario Casas': 2487, ' Steve Buscemi': 2488, 'Christopher Plummer': 2489, 'Jesse Eisenberg': 2490, ' Mauricio Lopez': 2491, ' Dominic Cooper': 2492, 'Tatiana Pauhofová': 2493, ' John Hurt': 2494, 'Ryûnosuke Kamiki': 2495, ' Dermot Mulroney': 2496, ' Lisa Kudrow': 2497, ' Annabelle Attanasio': 2498, 'Zachary Gordon': 2499, ' Julian Dennison': 2500, ' Kodi Smit-McPhee': 2501, 'Jeff Bridges': 2502, ' Alyson Hannigan': 2503, \"Sofia Black-D'Elia\": 2504, ' Shariff Earp': 2505, 'Kate Mara': 2506, ' Blythe Danner': 2507, ' Annabelle Wallis': 2508, ' Brian Milligan': 2509, ' Connie Nielsen': 2510, 'Aaron Paul': 2511, ' Oliver Platt': 2512, 'Will Ferrell': 2513, ' Kate Mara': 2514, ' Briana Evigan': 2515, ' Carey Mulligan': 2516, ' Sandra Bullock': 2517, ' Maria Bello': 2518, ' Lia Bugnar': 2519, ' Mireille Enos': 2520, 'Evan Rachel Wood': 2521, ' Kristin Scott Thomas': 2522, ' Garret Dillahunt': 2523, 'Deborah Kara Unger': 2524, ' Arnaud Viard': 2525, ' Nancy Kwan': 2526, ' Michiel Huisman': 2527, ' Zooey Deschanel': 2528, 'Mads Mikkelsen': 2529, ' Jeremy Renner': 2530, 'Tommy Lee Jones': 2531, ' Vicky Krieps': 2532, ' Tangie Ambrose': 2533, ' Soledad Villamil': 2534, ' Morgan Lily': 2535, 'Emily Blunt': 2536, 'Morgan Freeman': 2537, 'Michelle Yeoh': 2538, ' Benedict Wong': 2539, ' Kathleen Quinlan': 2540, 'Nadia White': 2541, 'Gaspard Schlatter': 2542, ' Thomas Brodie-Sangster': 2543, ' Austin Abrams': 2544, 'Anna Faris': 2545, ' Olivia Wilde': 2546, ' Karrueche Tran': 2547, ' Nikolaj Coster-Waldau': 2548, ' Jason Segel': 2549, ' Ike Barinholtz': 2550, ' Hee-Bong Byun': 2551, ' Barry Pepper': 2552, ' Janelle Monáe': 2553, ' Jenny Slate': 2554, ' Christian Cooke': 2555, ' Oona Laurence': 2556, ' Armin Mueller-Stahl': 2557, 'Jennifer Jason Leigh': 2558, 'Chris Pratt': 2559, ' Candice Bergen': 2560, 'Matthias Schoenaerts': 2561, ' Ed Harris': 2562, 'Forest Whitaker': 2563, 'Kelsey Grammer': 2564, 'Trenton Rogers': 2565, ' Tessa Thompson': 2566, 'Mark Ruffalo': 2567, ' Tian Jing': 2568, ' Catherine Bégin': 2569, 'Nia Vardalos': 2570, 'Asa Butterfield': 2571, ' Penélope Cruz': 2572, ' Kate Winslet': 2573, ' Alessandro Nivola': 2574, ' Joan Allen': 2575, ' Matthew Zuk': 2576, 'Carla Quevedo': 2577, ' Isabelle Nélisse': 2578, ' Orto Ignatiussen': 2579, 'Diane Lane': 2580, ' Adam Levine': 2581, 'Jennifer Lopez': 2582, 'Momo Dione': 2583, ' Daniel Zovatto': 2584, ' Lizzy Caplan': 2585, ' Juan Saavedra': 2586, ' Ryô Narita': 2587, ' Jane Lynch': 2588, 'Barbara Crampton': 2589, ' Seychelle Gabriel': 2590, ' Kim Uylenbroek': 2591, 'Hermione Corfield': 2592, 'Karl Urban': 2593, ' Anne Hathaway': 2594, ' Alfre Woodard': 2595, ' Dan Stevens': 2596, ' Josh Peck': 2597, ' Jessica Brown Findlay': 2598, ' Joseph Gordon-Levitt': 2599, ' Steve Zahn': 2600, ' Erin Moriarty': 2601, ' Florence Clery': 2602, ' Kathy Bates': 2603, ' David Harbour': 2604, ' Noah Wiseman': 2605, ' Michelle Williams': 2606, 'Thomas Mann': 2607, ' Alexander Skarsgård': 2608, ' Mike Birbiglia': 2609, ' Colin Hanks': 2610, 'Elijah Smith': 2611, 'Tom Hughes': 2612, ' Adewale Akinnuoye-Agbaje': 2613, 'Salma Hayek': 2614, 'Brittany Snow': 2615, ' Jonathan Rhys Meyers': 2616, ' Idina Menzel': 2617, ' Ian McShane': 2618, ' Logan Lerman': 2619, ' Brea Grant': 2620, ' Matthew Bohrer': 2621, ' Ken Watanabe': 2622, ' Nick Damici': 2623, 'Dan Crisafulli': 2624, ' Channing Tatum': 2625, ' Óscar Jaenada': 2626, 'Kevin Spacey': 2627, ' Julie Andrews': 2628, ' Gerard Butler': 2629, ' Edward Norton': 2630, ' Ralph Fiennes': 2631, 'John Gallagher Jr.': 2632, 'Matt Damon': 2633, 'Nicholas Hoult': 2634, ' Alfie Allen': 2635, ' Marco Giallini': 2636, ' Jennifer Jason Leigh': 2637, ' Kelly McGillis': 2638, 'Dustin Hoffman': 2639, 'Milla Jovovich': 2640, ' John Carroll Lynch': 2641, ' John Goodman': 2642, ' Michele Valley': 2643, ' John Corbett': 2644, ' Diego Boneta': 2645, 'Eric Godon': 2646, ' Christian Stevens': 2647, ' Jason Isaacs': 2648, 'Ruth Wilson': 2649, ' Robert Patrick': 2650, 'Jamie Foxx': 2651, ' Joey Morgan': 2652, 'Tom Hiddleston': 2653, ' Julian Barratt': 2654, ' Gillian Jacobs': 2655, ' Christina Hendricks': 2656, 'Noah Ringer': 2657, ' Aaron Paul': 2658, ' Derek Mears': 2659, ' Luing Andrews': 2660, ' Ben Kingsley': 2661, 'Jack Black': 2662, ' Saurabh Shukla': 2663, ' Steven Krueger': 2664, ' Brie Larson': 2665, 'Amy Schumer': 2666, ' Megan Fox': 2667, 'Eric Bana': 2668, ' Julianne Hough': 2669, 'Michael B. Jordan': 2670, ' Michael Peña': 2671, ' Dane DeHaan': 2672, 'James Allen McCune': 2673, ' Ji-min Han': 2674, 'Callum Turner': 2675, ' Matthew Macfadyen': 2676, 'Alex Pettyfer': 2677, ' Dakota Fanning': 2678, 'Russell Crowe': 2679, ' Ulrich Tukur': 2680, 'Nazanin Boniadi': 2681, ' Werner Herzog': 2682, 'Colin Farrell': 2683, ' Glenn Close': 2684, ' David Strathairn': 2685, ' Tim Allen': 2686, ' Joan Cusack': 2687, 'Sarah Jessica Parker': 2688, ' Crispin Glover': 2689, 'William Atherton': 2690, ' Ashton Kutcher': 2691, 'Demián Bichir': 2692, ' Kaitlin Olson': 2693, 'Marilyn Manson': 2694, ' Mary Elizabeth Winstead': 2695, ' Sharman Joshi': 2696, 'Jackie Chan': 2697, ' Orlando Bloom': 2698, ' Gerry Bednob': 2699, 'Kevin Costner': 2700, 'Max von Sydow': 2701, ' Jamie Dornan': 2702, 'Winona Ryder': 2703, ' Dennis Quaid': 2704, 'Meryl Streep': 2705, 'Kate Beckinsale': 2706, ' Doona Bae': 2707, ' Annie Rose Buckley': 2708, 'Jason Clarke': 2709, 'Lucas Hedges': 2710, 'Anne Hathaway': 2711, ' Allison Tolman': 2712, ' Steven Yeun': 2713, ' Eva Mendes': 2714, 'Alden Ehrenreich': 2715, 'Marley Shelton': 2716, ' Olga Kurylenko': 2717, ' Keir Gilchrist': 2718, ' Jamie Campbell Bower': 2719, ' Dustin Hoffman': 2720, ' Nicole Kidman': 2721, ' Nick Krause': 2722, ' Elijah Wood': 2723, ' Edie Falco': 2724, 'Matthew Macfadyen': 2725, ' Austin Pendleton': 2726, 'Fred Dalton Thompson': 2727, 'Dylan Duffus': 2728, 'Judah Lewis': 2729, 'Hiroki Hasegawa': 2730, ' Rima Te Wiata': 2731, ' Courtney Halverson': 2732, ' Ed Oxenbould': 2733, ' Liam McMahon': 2734, ' Duan Sanderson': 2735, 'Sigourney Weaver': 2736, ' Jalil Lespert': 2737, ' Emilie de Ravin': 2738, ' David Denman': 2739, ' Jonathan Roumie': 2740, ' Matthew McConaughey': 2741, ' Melissa Leo': 2742, 'Jason Sudeikis': 2743, ' Karl Urban': 2744, 'Christopher Evan Welch': 2745, ' Javier Bardem': 2746, 'Adam Sandler': 2747, ' Rosario Dawson': 2748, 'William Fichtner': 2749, ' Shah Rukh Khan': 2750, ' Bridgette Barrett': 2751, 'Emma Booth': 2752, ' Zoe Kazan': 2753, ' Jude Law': 2754, ' Michael Doneger': 2755, ' Brendan Gleeson': 2756, ' Ernst Stötzner': 2757, ' Emily Meade': 2758, ' Hristos Passalis': 2759, ' Maika Monroe': 2760, ' Dax Shepard': 2761, ' Alfred Molina': 2762, ' Chloë Grace Moretz': 2763, 'John C. Reilly': 2764, ' Dave Franco': 2765, 'Jennifer Garner': 2766, 'Michael Pitt': 2767, ' Paulin Jaccoud': 2768, 'James McAvoy': 2769, 'Ellen Page': 2770, ' Olivia Williams': 2771, 'Brandon T. Jackson': 2772, ' AnnaSophia Robb': 2773, ' Ellen Burstyn': 2774, ' Leslie Mann': 2775, ' Saoirse Ronan': 2776, ' Hugh Jackman': 2777, ' Ren Ôsugi': 2778, ' Ana Wagener': 2779, \"Srdjan 'Zika' Todorovic\": 2780, ' Brian Caspe': 2781, ' Adam G. Sevani': 2782, ' Michael Yare': 2783, ' Patricia Arquette': 2784, 'Zachary Quinto': 2785, 'Andreas Wisniewski': 2786, 'Lena Endre': 2787, ' José Coronado': 2788, 'Sarah Dumont': 2789, ' Boyd Holbrook': 2790, ' Timothy Olyphant': 2791, ' Nicholas Hoult': 2792, ' Sacha Baron Cohen': 2793, ' Josef Altin': 2794, ' Clint Dyer': 2795, ' Ice Cube': 2796, ' Priyanka Moodley': 2797, ' Abbie Cornish': 2798, ' Cara Buono': 2799, ' Roger Bart': 2800, 'Kenny Wormald': 2801, 'Amanda Seyfried': 2802, 'Margarita Levieva': 2803, ' Olivia Cooke': 2804, ' Kevin Kline': 2805, ' Christopher Carley': 2806, 'Gerard Butler': 2807, 'Casey Affleck': 2808, ' Laurent Lafitte': 2809, 'John Travolta': 2810, 'Henry Thomas': 2811, ' Anthony Cirillo': 2812, ' Anna Kendrick': 2813, ' Wes Bentley': 2814, ' Jessica Chastain': 2815, 'Rooney Mara': 2816, ' Jason Cope': 2817, ' Klara Kristin': 2818, 'Giancarlo Esposito': 2819, ' David Thewlis': 2820, ' Joseph Fiennes': 2821, 'Marisa Paredes': 2822, ' Oprah Winfrey': 2823, ' Barkhad Abdi': 2824, 'Matt Lanter': 2825, 'Dominic Monaghan': 2826, ' Hugh Laurie': 2827, ' Justin Timberlake': 2828, ' Jason Clarke': 2829, ' Andrew Garfield': 2830, ' David Wenham': 2831, ' Ksenia Solo': 2832, ' Joel Courtney': 2833, ' Emmanuelle Chriqui': 2834, 'Reiko Aylesworth': 2835, 'Jaden Smith': 2836, ' John Hodgman': 2837, 'Munro Chambers': 2838, ' Teri Hatcher': 2839, ' Justin Bartha': 2840, ' Robin Wright': 2841, ' Rose Leslie': 2842, ' Jon Hamm': 2843, ' Lewis Black': 2844, ' Chris Cooper': 2845, 'Giuseppe Battiston': 2846, ' Chase Williamson': 2847, ' Jeremy McWilliams': 2848, 'Malina Manovici': 2849, ' Kiefer Sutherland': 2850, ' Willem Dafoe': 2851, 'Julianne Hough': 2852, 'Anton Yelchin': 2853, 'François Cluzet': 2854, ' Tyrese Gibson': 2855, ' Keri Russell': 2856, ' Carly Rae Jepsen': 2857, 'Andre Braugher': 2858, ' Maya Rudolph': 2859, ' Julia Roberts': 2860, 'Lili Sepe': 2861, 'Sarah Clarke': 2862, ' Deanna Dunagan': 2863, ' Josh Lucas': 2864, ' Jack Davenport': 2865, 'Vanessa Ross': 2866, ' Rosemarie DeWitt': 2867, ' Emma Roberts': 2868, \" Lupita Nyong'o\": 2869, ' Giovanni Ribisi': 2870, 'Chris Pine': 2871, 'Jeffrey Wright': 2872, ' Lior Ashkenazi': 2873, ' Julian Vergov': 2874, \"Nicholas D'Agosto\": 2875, ' Jennifer Koenig': 2876, ' Sharlto Copley': 2877, ' Ashley Benson': 2878, 'Louis C.K.': 2879, 'Radha Mitchell': 2880, ' Rana Daggubati': 2881, ' Jordana Brewster': 2882, ' Roman Jossart': 2883, ' Peter Simonischek': 2884, 'Brie Larson': 2885, ' Catinca Untaru': 2886, 'Analeigh Tipton': 2887, ' Mira Sorvino': 2888, ' Sarah Roemer': 2889, 'Xavier Samuel': 2890, ' Alex Fisher': 2891, 'Tom Hardy': 2892, ' Angourie Rice': 2893, 'Bruce Campbell': 2894, 'Domhnall Gleeson': 2895, ' Mone Kamishiraishi': 2896, 'Emily Browning': 2897, ' Andy Samberg': 2898, ' Felicity Jones': 2899, 'Amy Poehler': 2900, ' Claire Danes': 2901, ' Connor Paolo': 2902, 'Keira Knightley': 2903, ' Jeremy Davies': 2904, ' Cary Elwes': 2905, ' Ryan Reynolds': 2906, ' Nick Frost': 2907, ' Jane Levy': 2908, ' Kai Ryssdal': 2909, ' Pat Cashman': 2910, ' Jael Elizabeth Steinmeyer': 2911, ' Salli Richardson-Whitfield': 2912, ' Geoffrey Arend': 2913, ' Zac Efron': 2914, 'Ethan Hawke': 2915, ' John Gallagher Jr.': 2916, ' Jessica Biel': 2917, 'Daniel Brühl': 2918, ' Andy Garcia': 2919, 'Jennifer Lawrence': 2920, ' Michael Ironside': 2921, 'Bailey Anne Borders': 2922, ' Sebastian Stan': 2923, 'Lauren German': 2924, 'Zoey Deutch': 2925, 'David Oyelowo': 2926, ' Chris Rock': 2927, ' Zach Galifianakis': 2928, ' Jeff Daniel Phillips': 2929, ' Axel Devillers': 2930, ' Kristin Chenoweth': 2931, ' Blanche Baker': 2932, ' Steven Mackintosh': 2933, ' T.R. Knight': 2934, 'Lake Bell': 2935, 'Kodi Smit-McPhee': 2936, ' Cara Delevingne': 2937, ' Joel Edgerton': 2938, ' Elle Fanning': 2939, ' Juliet Rylance': 2940, ' Jacki Weaver': 2941, ' Tom Felton': 2942, ' Bijou Phillips': 2943, ' Michael Constantine': 2944, ' Emma Stone': 2945, ' Paula Prentiss': 2946, ' Sixtine Murat': 2947, ' Asa Butterfield': 2948, 'Riz Ahmed': 2949, ' Cillian Murphy': 2950, 'Sarah Roemer': 2951, 'Sally Phillips': 2952, ' Paul Rudd': 2953, 'Johnny Depp': 2954, ' Cam Gigandet': 2955, ' Arnold Schwarzenegger': 2956, 'Neil Brown Jr.': 2957, 'Richard Gere': 2958, 'Andy Powers': 2959, 'Jared Gilman': 2960, 'Martin Freeman': 2961, ' James Marsden': 2962, ' Amber Tamblyn': 2963, 'Kim Coates': 2964, ' Aidan Turner': 2965, ' Adam Campbell': 2966, 'Ben Burtt': 2967, ' Soo-an Kim': 2968, 'Nick Swardson': 2969, ' Gary Cole': 2970, 'Amanda Bynes': 2971, 'Paul Rudd': 2972, ' Liam Neeson': 2973, 'Kerry Washington': 2974, ' James Gandolfini': 2975, ' Lorenza Izzo': 2976, 'Mia Goth': 2977, 'Jared Leto': 2978, ' Kerry Bishé': 2979, ' Jennifer Ehle': 2980, ' Sam Trammell': 2981, ' Kaya Scodelario': 2982, ' Taylor Swift': 2983, 'Genesis Rodriguez': 2984, ' Bryan Cranston': 2985, ' J.K. Simmons': 2986, ' Justice Smith': 2987, ' Emile Hirsch': 2988, 'Tyler Perry': 2989, 'Stephen Lang': 2990, ' Arturo Castro': 2991, ' Kristen Wiig': 2992, 'Renée Zellweger': 2993, 'Ben Winchell': 2994, ' Ethan Suplee': 2995, ' James Frecheville': 2996, ' Emma Fitzpatrick': 2997, ' Tom Hanks': 2998, ' Gemma Arterton': 2999, ' Jake Abel': 3000, 'Paul Dano': 3001, ' Audrey Fleurot': 3002, ' Rachael Harris': 3003, 'Luke Wilson': 3004, ' Theo Rossi': 3005, ' Sigrid Bouaziz': 3006, ' Israel Broussard': 3007, ' Ryan Gosling': 3008, ' Michael Caine': 3009, ' Paul Borghese': 3010, 'Shannon Woodward': 3011, ' Joshua McIvor': 3012, ' Laurence Fishburne': 3013, ' Lucas Black': 3014, 'Pierce Brosnan': 3015, ' Nathalie Boltt': 3016, ' Paul Reiser': 3017, ' Lainie Kazan': 3018, ' Terry Chen': 3019, 'Tom Wilkinson': 3020, 'Alice Braga': 3021, 'Paul Giamatti': 3022, ' Til Schweiger': 3023, ' Temuera Morrison': 3024, ' Paul Anderson': 3025, 'Shia LaBeouf': 3026, ' Sylvia Hoeks': 3027, ' Dominique Abel': 3028, ' Nick Offerman': 3029, ' Cobie Smulders': 3030, ' Megan Charpentier': 3031, 'Richard Dreyfuss': 3032, 'Anthony Mackie': 3033, ' Alan Arkin': 3034, ' Jena Malone': 3035, ' Vanessa Ferlito': 3036, ' Rila Fukushima': 3037, ' Karel Hermánek Jr.': 3038, ' John C. McGinley': 3039, ' Aubrey Plaza': 3040, ' Tom Holland': 3041, 'Laurence Fishburne': 3042, ' Mackenzie Foy': 3043, 'Emma Watson': 3044, 'Brian Cox': 3045, ' Akihiro Kitamura': 3046, ' Xavier Samuel': 3047, 'Zooey Deschanel': 3048, ' Jeff Branson': 3049, ' Brit Morgan': 3050, ' Sigourney Weaver': 3051, ' Jordi Mollà': 3052, ' Paul Newman': 3053, ' Filip Berg': 3054, ' Kurt Fuller': 3055, ' Kevin Bacon': 3056, ' Jim Broadbent': 3057, ' Steven Pasquale': 3058, ' Liam Hemsworth': 3059, ' Miles Teller': 3060, ' William Hurt': 3061, 'Daniel Franzese': 3062, ' Gugu Mbatha-Raw': 3063, ' Mark Rylance': 3064, ' Laurie Holden': 3065, 'Kirsten Dunst': 3066, ' Dean Mumford': 3067, ' Laura Abramsen': 3068, ' Ryan Lee': 3069, ' Su Elliot': 3070, ' Aiden Longworth': 3071, 'Amr Waked': 3072, ' Meredith Hagner': 3073, ' Kara Hayward': 3074, ' John DeLuca': 3075, 'Rosie Shaw': 3076, ' Martin Freeman': 3077, 'Lubna Azabal': 3078, 'Michael Nyqvist': 3079, 'Eve Lindley': 3080, ' Rupert Grint': 3081, ' Miyavi': 3082, ' Jessica Barden': 3083, ' Jessica Barth': 3084, ' Michael B. Jordan': 3085, ' Ang Phula Sherpa': 3086, ' Leland Orser': 3087, ' Michelle Monaghan': 3088, 'Chadwick Boseman': 3089, ' Jorma Taccone': 3090, 'Ana de Armas': 3091, ' Billie Piper': 3092, ' Charles Dance': 3093, ' Emilia Clarke': 3094, ' Sienna Miller': 3095, ' Kate Dickie': 3096, 'Alexandra Maria Lara': 3097, 'Thomas Jane': 3098, 'Tilda Swinton': 3099, ' Famke Janssen': 3100, ' Rachel Quinn': 3101, ' Hae-il Park': 3102, 'Luke Treadaway': 3103, 'Felicity Jones': 3104, ' Kirby Bliss Blanton': 3105, ' Alice Braga': 3106, ' Judy Greer': 3107, ' Rhona Mitra': 3108, ' Alexis Dziena': 3109, ' Robert Capron': 3110, ' Charlie Tahan': 3111, ' Aaron Burns': 3112, ' Nick Nolte': 3113, ' Ray Winstone': 3114, ' Gabriel Bateman': 3115, ' Wentworth Miller': 3116, ' Rick Gonzalez': 3117, ' James Franco': 3118, 'Martin Stringer': 3119, 'Elizabeth Reaser': 3120, ' Pierre Niney': 3121, ' Martin McCann': 3122, ' Craig Ferguson': 3123, ' Harry Connick Jr.': 3124, ' Linda Gegusch': 3125, 'Maddy Curley': 3126, ' Luke Kleintank': 3127, 'Scott Adkins': 3128, 'Amanda Peet': 3129, ' Toby Kebbell': 3130, 'Keanu Reeves': 3131, 'Michael Keaton': 3132, ' Nellie': 3133, 'Daisy Ridley': 3134, ' Julia Ormond': 3135, 'Billy Magnussen': 3136, ' Tom Hiddleston': 3137, 'Blake Jenner': 3138, 'Katie Cassidy': 3139, 'Lucas Black': 3140, ' Viola Davis': 3141, 'Johnny Simmons': 3142, ' Abigail Breslin': 3143, ' Sergej Trifunovic': 3144, 'Tyler James Williams': 3145, ' Adria Arjona': 3146, ' Austin Stowell': 3147, 'Dennis Quaid': 3148, ' Alison Brie': 3149, 'Annabeth Gish': 3150, ' Jonny Weston': 3151, ' Bill Hader': 3152, ' Andrew Simpson': 3153, 'Golshifteh Farahani': 3154, ' Josh Gad': 3155, ' Laura Ramsey': 3156, ' Rasmus Hardiker': 3157, 'Jim Parsons': 3158, ' Will Dalton': 3159, ' Christopher Jordan Wallace': 3160, \"Da'Vone McDonald\": 3161, ' Vince Vaughn': 3162, 'Jackie Earle Haley': 3163, ' Christopher Fitzgerald': 3164, ' Alan Rickman': 3165, ' Adam Brody': 3166, ' Jennifer Lopez': 3167, ' Jerry Stiller': 3168, ' Emily Browning': 3169, ' Michael Douglas': 3170, ' Russell Crowe': 3171, ' Rosie Huntington-Whiteley': 3172, 'Samantha Robinson': 3173, ' Megan Park': 3174, ' Djimon Hounsou': 3175, ' Casey Affleck': 3176, 'Kate Bosworth': 3177, ' Paula Beer': 3178, 'Angela Bassett': 3179, 'Mark Huberman': 3180, ' Baptiste Goy': 3181, ' Rufus Sewell': 3182, ' Elizabeth Gracen': 3183, ' Katie Crown': 3184, ' Dulé Hill': 3185, ' Nicola Peltz': 3186, ' Ellen Page': 3187, ' Scott Glenn': 3188, 'Nat Wolff': 3189, ' Geoffrey Rush': 3190, ' Danny Trejo': 3191, ' Denis Leary': 3192, 'Carmen Electra': 3193, ' Jennifer Lawrence': 3194, ' Tanay Chheda': 3195, 'Catherine Keener': 3196, 'Tim Pigott-Smith': 3197, ' Rizwan Manji': 3198, ' Chris Hemsworth': 3199, ' Keira Knightley': 3200, ' Michael Kenneth Williams': 3201, ' Michael Ealy': 3202, 'David Denman': 3203, ' Raghuvir Joshi': 3204, ' A.C. Peterson': 3205, 'Kelly Macdonald': 3206, ' Jin-woong Jo': 3207, ' Rob Riggle': 3208, ' Danielle Nicolet': 3209, ' Maggie Q': 3210, ' Mahershala Ali': 3211, 'Emily Baldoni': 3212, ' Rosamund Pike': 3213, ' Ross Kimball': 3214, ' Heath Ledger': 3215, ' Jesse Eisenberg': 3216, ' Jesse Borrego': 3217, ' Olivia Thirlby': 3218, ' Jessica Alba': 3219, ' Will Smith': 3220, ' Zoë Bell': 3221, ' Ronnie Gene Blevins': 3222, ' Martin Henderson': 3223, ' Terrence Howard': 3224, 'Josh Hartnett': 3225, ' Val Kilmer': 3226, ' Michael Cera': 3227, ' Fatima Sana Shaikh': 3228, ' Gabriel Luna': 3229, ' Anna Camp': 3230, ' Leonard Nimoy': 3231, ' Will Poulter': 3232, ' RJ Cyler': 3233, 'Joe Blakemore': 3234, 'Adam Driver': 3235, ' Usher Raymond': 3236, ' Tim Roth': 3237, ' Bella Thorne': 3238, 'Moisés Acevedo': 3239, ' Michael Trucco': 3240, 'Emma Roberts': 3241, ' Blake Lively': 3242, ' Fred Willard': 3243, \" Jack O'Connell\": 3244, ' Matt Bomer': 3245, 'Wendy Crewson': 3246, 'Adam Pally': 3247, ' Jennifer Aniston': 3248, ' Addison Timlin': 3249, ' Jaime Winstone': 3250, 'Brighton Sharbino': 3251, ' Michelle Yeoh': 3252, ' Moe Dunford': 3253, 'Freddie Crowder': 3254, ' Selena Gomez': 3255, 'Tadanobu Asano': 3256, 'Kristen Connolly': 3257, 'Idris Elba': 3258, ' Kyle Chandler': 3259, 'Leonardo DiCaprio': 3260, 'Lyndsy Fonseca': 3261, ' Maria Doyle Kennedy': 3262, ' India Eisley': 3263, ' Dominic West': 3264, ' Matthew Perry': 3265, ' Janet Montgomery': 3266, ' Jack McBrayer': 3267, ' Maggie Grace': 3268, 'Michiel Huisman': 3269, ' Scott Eastwood': 3270, 'Annette Bening': 3271, ' Malcolm Sinclair': 3272, ' Colleen Camp': 3273, ' Alia Shawkat': 3274, ' Gal Gadot': 3275, 'Jessica Chastain': 3276, ' Gattlin Griffith': 3277, ' J. Todd Smith': 3278, 'Alycia Debnam-Carey': 3279, ' Helen Mirren': 3280, ' Jacob Tremblay': 3281, ' Liev Schreiber': 3282, ' Jack Madigan': 3283, ' Callie Hernandez': 3284, ' Alexis Clagett': 3285, ' Sandra Kinder': 3286, 'Taraneh Alidoosti': 3287, 'Josh Hutcherson': 3288, ' Julianne Moore': 3289, ' Mason Lee': 3290, ' Demián Bichir': 3291, 'Naomi Watts': 3292, ' Mark Consuelos': 3293, ' Anton Yelchin': 3294, ' Lucy Fry': 3295, ' Émilie Leclerc': 3296, ' Max Greenfield': 3297, ' Julianna Margulies': 3298, 'David Acord': 3299, ' Scarlett Johansson': 3300, ' Maury Sterling': 3301, 'Hailee Steinfeld': 3302, ' Alexandra Daddario': 3303, ' Laura Allen': 3304, ' Ashlynn Yennie': 3305, ' Dominique Tipper': 3306, ' Will Arnett': 3307, ' Paula Patton': 3308, ' Teresa Palmer': 3309, ' Anya Taylor-Joy': 3310, ' Albert Finney': 3311, ' Sam Neill': 3312, \"Auli'i Cravalho\": 3313, ' Cole Konis': 3314, 'Mia Wasikowska': 3315, ' Salma Hayek': 3316, 'Alexandra Daddario': 3317, 'Derek Jacobi': 3318, 'Quvenzhané Wallis': 3319, 'Laurent Lucas': 3320, 'Lauren Birkell': 3321, ' Ciarán Hinds': 3322, 'Philip Seymour Hoffman': 3323, ' Nikki Blonsky': 3324, ' Idris Elba': 3325, ' David Spade': 3326, ' Max Minghella': 3327, 'Helena Bonham Carter': 3328, 'Stephen Moyer': 3329, 'Danny Sapani': 3330, 'Geoffrey Rush': 3331, 'Kimberly Elise': 3332, ' John Cusack': 3333, ' Stephen Rea': 3334, 'Diego Luna': 3335, 'Aaron Poole': 3336, ' Kevin James': 3337, ' Tom Hudson': 3338, 'Nathan Fillion': 3339, ' Rabah Nait Oufella': 3340, 'Rose McGowan': 3341, ' Eric Winter': 3342, ' Ashleigh Cummings': 3343, ' Ali Larter': 3344, 'Jai Courtney': 3345, ' Maxim Gaudette': 3346, ' Loïs van Wijk': 3347, ' Tania Raymonde': 3348, \"Dylan O'Brien\": 3349, 'Jacob Latimore': 3350, ' Riz Ahmed': 3351, ' Dianna Agron': 3352, ' Alice Eve': 3353, ' Jasmine Trinca': 3354, ' Matthew Fox': 3355, ' Lynn Collins': 3356, 'Viggo Mortensen': 3357, ' Anna Hutchison': 3358, ' Andrea Riseborough': 3359, 'Callan McAuliffe': 3360, ' Jennette McCurdy': 3361, 'Sanya Malhotra': 3362, ' Jet Li': 3363, 'Sasha Lane': 3364, ' Mélissa Désormeaux-Poulin': 3365, ' Keith Carradine': 3366, 'Megan Fox': 3367, 'Mark Chao': 3368, ' Joseph Julian Soria': 3369, ' Woody Harrelson': 3370, ' Imogen Poots': 3371, ' Christopher Lee': 3372, ' Henry Cavill': 3373, ' Nathan Fillion': 3374, ' Eddie Marsan': 3375, ' Heather Matarazzo': 3376, ' Robert Duvall': 3377, ' Charlotte Le Bon': 3378, ' Omar Sy': 3379, ' Cameron Diaz': 3380, \" Mo'Nique\": 3381, ' Elissa Knight': 3382, ' Peter Stormare': 3383, 'Chatchawai Kamonsakpitak': 3384, 'Lorenza Izzo': 3385, 'Nicole Parker': 3386, ' Hayley Squires': 3387, ' Regina Hall': 3388, ' Miles Fisher': 3389, 'Billy Crudup': 3390, 'Catherine Walker': 3391, 'Hilary Swank': 3392, ' Riley Thomas Stewart': 3393, ' Stephen Curry': 3394, ' Stellan Skarsgård': 3395, ' Christina Grimmie': 3396, ' Bryan Greenberg': 3397, ' Matt Damon': 3398, ' Nathan Phillips': 3399, ' Aryana Engineer': 3400, ' Drew Barrymore': 3401, ' Sarah Snook': 3402, ' Mark Strong': 3403, ' Mickey Rourke': 3404, 'Yoo Gong': 3405, ' Yoo Gong': 3406, ' Scott Adsit': 3407, ' Naomi Watts': 3408, 'Léa Seydoux': 3409, ' Blythe Auffarth': 3410, ' Michael Chiklis': 3411, 'Liana Liberato': 3412, 'Vin Diesel': 3413, ' Olan Rogers': 3414, ' Kari Matchett': 3415, ' Thomas M. Wright': 3416, ' Billy Bob Thornton': 3417, 'Carice van Houten': 3418, ' James DuMont': 3419, 'Jason Statham': 3420, 'Jason Segel': 3421, 'Dominique Swain': 3422, ' Seth Rogen': 3423, ' Meryl Streep': 3424, ' Lukas Hassel': 3425, ' Amanda Righetti': 3426, ' Lisa Thoreson': 3427, ' Kurt Russell': 3428, ' Thomas Middleditch': 3429, 'Charlie Hunnam': 3430, 'Vanessa Hudgens': 3431, ' Donnie Yen': 3432, ' Kenneth Welsh': 3433, ' Logan Miller': 3434, 'Charlie Cox': 3435, ' Ned Beatty': 3436, ' Maria-Victoria Dragus': 3437, ' Min-sik Choi': 3438, ' Tye Sheridan': 3439, 'Joseph Mawle': 3440, ' Adil Hussain': 3441, 'Brendan Fraser': 3442, ' Mayko Nguyen': 3443, 'Judy Greer': 3444, ' Brett Cullen': 3445, ' Martin Kabanza': 3446, ' Melissa McCarthy': 3447, 'Lydia Wilson': 3448, ' Jamie Blackley': 3449, ' Caitlyn Rund': 3450, 'Steve Carell': 3451, ' Jon Daly': 3452, 'Javier Bardem': 3453, ' Bruce Greenwood': 3454, 'George Clooney': 3455, ' Liana Liberato': 3456, ' Jake Gyllenhaal': 3457, ' Justin Theroux': 3458, ' Steve Martin': 3459, ' Andrew Scott': 3460, ' Oscar Isaac': 3461, ' Nina Dobrev': 3462, ' Rob Corddry': 3463, ' Christoph Waltz': 3464, ' Harley Quinn Smith': 3465, 'Eva Green': 3466, 'Emile Hirsch': 3467, 'Anthony Hopkins': 3468, ' Peter Sarsgaard': 3469, ' Toby Jones': 3470, ' Ezra Miller': 3471, 'Tony Revolori': 3472, ' Clara Mamet': 3473, ' Arlen Escarpeta': 3474, ' Andy Serkis': 3475, 'Adrian Titieni': 3476, ' Natalie Martinez': 3477, 'Anna Hutchison': 3478, ' Naomi Ackie': 3479, 'Karen Allen': 3480, ' T.J. Miller': 3481, ' Damien Marzette': 3482, 'Callum Keith Rennie': 3483, ' Lily Cole': 3484, 'Billy Burke': 3485, 'Lori Petty': 3486, ' John Ratzenberger': 3487, ' Emily Ratajkowski': 3488, 'Nick Robinson': 3489, ' Kathryn Hahn': 3490, ' Jordan Carlos': 3491, ' Vera Farmiga': 3492, ' Storm Reid': 3493, ' Juno Temple': 3494, ' Jon Voight': 3495, ' Emily Mortimer': 3496, ' Shailene Woodley': 3497, ' Michael McElhatton': 3498, ' Sarah Gadon': 3499, ' Liv Tyler': 3500, 'Oliver Platt': 3501, ' Jeff Bridges': 3502, ' Demi Moore': 3503, 'Oona Laurence': 3504, ' Hayden Panettiere': 3505, ' Kevin McKidd': 3506, 'Peter Dinklage': 3507, 'Rachel Korine': 3508, ' Jade Asha': 3509, ' Bruce Willis': 3510, 'Oscar Isaac': 3511, 'Robert Hoffman': 3512, ' Tina Fey': 3513, ' Olivia Colman': 3514, ' Mia Stallard': 3515, \"O'Shea Jackson Jr.\": 3516, ' Zachary Bennett': 3517, ' Michael Keaton': 3518, ' Antonio Banderas': 3519, ' Sharon Percy': 3520, 'Famke Janssen': 3521, \" Frances O'Connor\": 3522, 'Calum Worthy': 3523, ' Raoul Max Trujillo': 3524, ' David Troughton': 3525, ' Richard Jenkins': 3526, ' Amy Ryan': 3527, 'Edoardo Leo': 3528, ' Aaron Taylor-Johnson': 3529, 'Vera Farmiga': 3530, 'Anika Noni Rose': 3531, ' Kristen Stewart': 3532, ' Billy Burke': 3533, ' Derek Luke': 3534, ' Paul Birchard': 3535, ' Rachel Dratch': 3536, ' Cate Blanchett': 3537, ' Jung-min Hwang': 3538, 'Edward Norton': 3539, ' Tammy Blanchard': 3540, ' Woo-hee Chun': 3541, ' Bob Balaban': 3542, ' Antje Traue': 3543, ' Stanley Tucci': 3544, ' Barry Ward': 3545, 'Amy Adams': 3546, 'John Goodman': 3547, ' Lynsey Taylor Mackay': 3548, 'Kang-ho Song': 3549, ' Danny Huston': 3550, ' Bruce Boxleitner': 3551, ' Lin Shaye': 3552, 'Melissa Leo': 3553, ' Sally Field': 3554, ' Gaby Hoffmann': 3555, 'Levi Miller': 3556, ' Mathieu Amalric': 3557, ' Kit Harington': 3558, ' Johnny Depp': 3559, ' Brittany Snow': 3560, 'Rachel Weisz': 3561, ' Jon Favreau': 3562, ' Colm Feore': 3563, 'Toby Kebbell': 3564, 'Ken Stott': 3565, ' Rhys Ifans': 3566, ' Tom Hardy': 3567, ' Dalia Hernández': 3568, ' Tyler Hoechlin': 3569, ' Jared Leto': 3570, ' Eric Stonestreet': 3571, 'Richenda Carey': 3572, 'Willem Dafoe': 3573, ' Karin Konoval': 3574, ' Mylène Jampanoï': 3575, ' Jim Caviezel': 3576, ' Ellie Kemper': 3577, 'Sheri Moon Zombie': 3578, 'Max Martini': 3579, 'Taylor Kitsch': 3580, ' Noah Taylor': 3581, 'Dan Fogler': 3582, ' John Ortiz': 3583, ' Albert Brooks': 3584, \" Jerry O'Connell\": 3585, 'Jane Levy': 3586, ' Miranda Cosgrove': 3587, 'Paul Sidhu': 3588, ' James Russell': 3589, ' Daniel Brühl': 3590, ' Richard Brake': 3591, 'Seann William Scott': 3592, ' Viggo Mortensen': 3593, 'Riley Keough': 3594, ' Jaden Smith': 3595, ' Steve Lantz': 3596, 'Danny McBride': 3597, 'Nick Offerman': 3598, ' Josh Duhamel': 3599, 'Patrick Huard': 3600, 'Ron Perlman': 3601, 'Elle Fanning': 3602, ' Ni Ni': 3603, 'Ward Horton': 3604, ' Kat Dennings': 3605, ' Jared Harris': 3606, 'Sharlto Copley': 3607, 'Channing Tatum': 3608, 'Justin Chatwin': 3609, 'Jay Baruchel': 3610, ' Terry Crews': 3611, ' Kate Hudson': 3612, ' Mohamed Akhzam': 3613, ' Ron Livingston': 3614, ' Roman Kolinka': 3615, 'Frank Madigan': 3616, ' Frank Langella': 3617, ' Oakes Fegley': 3618, ' Jerry Ferrara': 3619, ' Zachary Levi': 3620, ' Taylor Schilling': 3621, ' Leslie Jones': 3622, ' Bob the Cat': 3623, ' Kelly Reilly': 3624, ' Dana Fuchs': 3625, ' Mona Singh': 3626, ' Marton Csokas': 3627, ' Aidan Gillen': 3628, 'Dakota Fanning': 3629, ' Adrian Martinez': 3630, ' Madhavan': 3631, ' Jamie Bell': 3632, 'Armie Hammer': 3633, 'Tim Blake Nelson': 3634, 'Alexander Ludwig': 3635, ' John C. Reilly': 3636, ' Owen Wilson': 3637, ' Hugo Weaving': 3638, ' Eddie Izzard': 3639, \"Ed O'Neill\": 3640, ' Bradley Cooper': 3641, 'Anya Taylor-Joy': 3642, ' Peter McRobbie': 3643, ' Greg Kinnear': 3644, ' Nicholas Braun': 3645, ' Wei Tang': 3646, ' Jenna Dewan Tatum': 3647, ' Katherine Waterston': 3648, 'Anders Danielsen Lie': 3649, 'Vince Vaughn': 3650, ' Robert De Niro': 3651, ' Chase Offerle': 3652, ' Alan Tudyk': 3653, 'Laura Dern': 3654, ' Elizabeth Mitchell': 3655, 'Brandon Routh': 3656, ' Tommy Lee Jones': 3657, ' Martina Gedeck': 3658, ' Sylvester Stallone': 3659, ' Jennifer Morrison': 3660, ' Richard Madden': 3661, ' Sakshi Tanwar': 3662, 'Robert Pattinson': 3663, 'Elisabeth Shue': 3664, ' Tijuana Ricks': 3665, ' Patton Oswalt': 3666, ' Harold Perrineau': 3667, ' Angelique Pereira': 3668, ' Octavia Spencer': 3669, ' Simon Helberg': 3670, ' Taissa Farmiga': 3671, 'Ryan Gosling': 3672, 'Charlie Day': 3673, 'Tamannaah Bhatia': 3674, ' Matthew Morrison': 3675, ' Natalie Portman': 3676, ' Josh Hutcherson': 3677, 'Quinton Aaron': 3678, 'Annalise Basso': 3679, 'Jessica Brown Findlay': 3680, ' Brenda Blethyn': 3681, 'Benicio Del Toro': 3682, ' Kyra Sedgwick': 3683, ' Michelle Rodriguez': 3684, ' Bria L. Murphy': 3685, ' Derek Jeter': 3686, 'Ryan Reynolds': 3687, ' Alec Baldwin': 3688, ' Jessie Ok Gray': 3689, ' Don Cheadle': 3690, ' Brooke Shields': 3691, 'Michael Cera': 3692, 'Jun Kunimura': 3693, ' Christian Stolte': 3694, ' Sam Quartin': 3695, ' Catalina Sandino Moreno': 3696, ' Steve Tom': 3697, ' Renée Zellweger': 3698, ' Simon Cotton': 3699, 'Mickey Rourke': 3700, ' Kang-ho Song': 3701, ' Craig Robinson': 3702, 'Brad Garrett': 3703, ' Daniel Olbrychski': 3704, 'Lauren Graham': 3705, ' Will Yun Lee': 3706, ' Alistair Abell': 3707, 'Rachel Bilson': 3708, 'Samuel L. Jackson': 3709, ' Adam Devine': 3710, 'Brad Pitt': 3711, ' Jamie Foxx': 3712, ' Rinko Kikuchi': 3713, ' Colin Farrell': 3714, ' Amber Heard': 3715, ' Sean Patrick Thomas': 3716, 'Alexander Black': 3717, ' Katherine Reis': 3718, ' Sam Elliott': 3719, 'Jessica Biel': 3720, ' Robert Redford': 3721, ' Ewa Fröling': 3722, ' Thomas Lennon': 3723, ' Tom Costello': 3724, 'Sebastian Koch': 3725, 'Charles Berling': 3726, 'Charlotte Gainsbourg': 3727, ' Karl Glusman': 3728, ' Grace Van Patten': 3729, ' Gabriel Basso': 3730, ' Steve Coogan': 3731, ' Malin Akerman': 3732, 'Hugo Weaving': 3733, 'Patrick Wilson': 3734, ' Chris Klein': 3735, 'Helen Mirren': 3736, ' Leonardo DiCaprio': 3737, 'Zach Galifianakis': 3738, ' Mary-Louise Parker': 3739, ' Penn Badgley': 3740, ' Jae Head': 3741, ' Rachel McAdams': 3742, 'Ian Holm': 3743, ' Sean Bean': 3744, ' Joely Richardson': 3745, ' Kenshô Ono': 3746, 'Michael Shannon': 3747, ' Jeffrey Dean Morgan': 3748, 'Abbie Cornish': 3749, ' Andy Buckley': 3750, ' Adèle Exarchopoulos': 3751, ' Walton Goggins': 3752, ' Michael Sheen': 3753, 'Ben Kingsley': 3754, ' Odeya Rush': 3755, 'Chris Gethard': 3756, ' Jenna Elfman': 3757, ' Nikki SooHoo': 3758, ' Kirsten Dunst': 3759, ' Anika Noni Rose': 3760, 'Rachael Harris': 3761, ' Luke Bracey': 3762, ' Lake Bell': 3763, ' Alison Pill': 3764, 'Aomi Muyock': 3765, ' Gretchen Mol': 3766, 'Richard Jenkins': 3767, ' Vincent Ebrahim': 3768, ' Naomi Battrick': 3769, ' Ewan McGregor': 3770, ' Margot Robbie': 3771, ' Gabriella Wilde': 3772, ' T.I.': 3773, 'Seth Rogen': 3774, 'Ashley Tisdale': 3775, ' So-ri Moon': 3776, ' Gregory Jones': 3777, ' Brian Geraghty': 3778, ' Jean Reno': 3779, 'Michelle Williams': 3780, ' Lasse Fogelstrøm': 3781, \"Jason O'Mara\": 3782, 'Christina Applegate': 3783, ' Astrid Bergès-Frisbey': 3784, ' Antonio Tarver': 3785, ' Jonathan Groff': 3786, 'Robert Downey Jr.': 3787, ' Kelcey Watson': 3788, ' Scorcher': 3789, ' Alicia Vikander': 3790, 'Tony Shalhoub': 3791, ' Patrick Dempsey': 3792, 'Emmanuel Garijo': 3793, ' Cary-Hiroyuki Tagawa': 3794, ' Lucy Liu': 3795, ' Mykelti Williamson': 3796, ' Tim McGraw': 3797, 'Jessica Vanessa DeLeon': 3798, 'Francesc Albiol': 3799, 'Sonoya Mizuno': 3800, ' Steve Oram': 3801, 'Sam Rockwell': 3802, ' CCH Pounder': 3803, ' Eddie Baroo': 3804, ' Emory Cohen': 3805, 'Cillian Murphy': 3806, ' Jean-Claude Van Damme': 3807, ' Dakota Blue Richards': 3808, ' Ashley Walters': 3809, 'Brendan Gleeson': 3810, 'Peter Stormare': 3811, ' Edwin Wright': 3812, 'Mae Whitman': 3813, ' Joel David Moore': 3814, 'Hugh Jackman': 3815, 'Cate Blanchett': 3816, 'Jahking Guillory': 3817, 'Ryan Potter': 3818, ' Nicholas Hope': 3819, 'John Cusack': 3820, ' Taraji P. Henson': 3821, 'Darío Grandinetti': 3822, ' Kevin Dillon': 3823, ' James McAvoy': 3824, 'Topher Grace': 3825, 'Dane DeHaan': 3826, \" John D'Leo\": 3827, ' Jamie Chung': 3828, ' Elizabeth Debicki': 3829, ' Milla Jovovich': 3830, ' Dick Van Dyke': 3831, ' Timothy Spall': 3832, 'Justin Long': 3833, ' Harrison Ford': 3834, ' Julia Stiles': 3835, 'Sandra Hüller': 3836, ' Vincent Cassel': 3837, ' Zachary Quinto': 3838, ' Angelo Josue Lozano Corzo': 3839, ' Charlie Heaton': 3840, ' Vernetta Lopez': 3841, 'Clive Owen': 3842, 'Chloë Grace Moretz': 3843, 'Ben Barnes': 3844, 'Jason Flemyng': 3845, ' Emma Thompson': 3846, 'Matthew McConaughey': 3847, ' Tyler Perry': 3848, ' Jack Holden': 3849, ' Adrianne Palicki': 3850, 'Jim Carrey': 3851, 'Anton Adasinsky': 3852, ' Shawn Roberts': 3853, 'Tobey Maguire': 3854, ' Justine Waddell': 3855, 'Ian McKellen': 3856, 'Connor Paolo': 3857, ' Randy Couture': 3858, 'Cedric the Entertainer': 3859, ' Daniel Giménez Cacho': 3860, ' Logan Marshall-Green': 3861, 'Method Man': 3862, ' Jack Reynor': 3863, 'Adam Rodriguez': 3864, 'Jocelin Donahue': 3865, 'James Badge Dale': 3866, ' January Jones': 3867, ' Rebecca Ferguson': 3868, ' Jason Bateman': 3869, ' Jordan Peele': 3870, 'Ulrich Mühe': 3871, ' Sunny Pawar': 3872, ' Guy Pearce': 3873, ' David Morse': 3874, ' Terence Stamp': 3875, ' Anne Le Ny': 3876, ' Annika Wedderkopp': 3877, ' Sergi López': 3878, 'Simon Pegg': 3879, 'Guillaume Baillargeon': 3880, ' Amanda Bynes': 3881, ' Maria Dizzia': 3882, 'Daniel Radcliffe': 3883, ' Stephen Dorff': 3884, ' Shahab Hosseini': 3885, ' Robert Carlyle': 3886, ' Vilen Babichev': 3887, ' Mandy Gonzalez': 3888, 'Malin Akerman': 3889, ' Emma Bell': 3890, 'Gerardo Taracena': 3891, 'Pierre Niney': 3892, 'Sarah Hyland': 3893, ' Chira Cassel': 3894, ' Tom Sizemore': 3895, ' Dakota Johnson': 3896, ' Stephen Merchant': 3897, ' Gwyneth Paltrow': 3898, ' Robert Downey Jr.': 3899, ' Sally Hawkins': 3900, ' Edgar Ramírez': 3901, 'Garrett Clayton': 3902, 'Cynthia Nixon': 3903, 'Shailene Woodley': 3904, ' Ashlyn Sanchez': 3905, ' Carmen Ejogo': 3906, ' Katee Sackhoff': 3907, 'Madina Nalwanga': 3908, ' Olivia Munn': 3909, ' Shelley Hennig': 3910, ' Joanne Froggatt': 3911, 'Emma Thompson': 3912, ' Keith David': 3913, ' Meagan Good': 3914, 'Lambert Wilson': 3915, ' Richard Dreyfuss': 3916, ' María Marull': 3917, 'Ted Levine': 3918, ' Lou Taylor Pucci': 3919, ' Ray Stevenson': 3920, 'Lily-Rose Depp': 3921, 'Jared Harris': 3922, 'Jason Momoa': 3923, 'Liam Neeson': 3924, ' Suzanne Clément': 3925, 'Prabhas': 3926, 'Stanley Tucci': 3927, 'Tina Fey': 3928, 'Rory Cochrane': 3929, ' Freddy Rodríguez': 3930, ' Dev Patel': 3931, ' Bree Turner': 3932, 'Alia Bhatt': 3933, ' Jason Sudeikis': 3934, ' Victoria Justice': 3935, ' Daniel Eric Gold': 3936, 'Adewale Akinnuoye-Agbaje': 3937, ' Philip Seymour Hoffman': 3938, 'Bruce Willis': 3939, ' Diane Lane': 3940, 'Eddie Redmayne': 3941, ' Sachet Engineer': 3942, 'Natasha Henstridge': 3943, ' Brenton Thwaites': 3944, ' Annalise Basso': 3945, ' Luke Evans': 3946, ' Dan Fogler': 3947, ' Benjamin Bratt': 3948, 'Brian Dennehy': 3949, ' Dean Norris': 3950, ' Randall Park': 3951, 'Kristen Stewart': 3952, ' Rachel Wood': 3953, 'Rihanna': 3954, 'Ivana Baquero': 3955, ' Ella Rumpf': 3956, ' Chiwetel Ejiofor': 3957, ' Reese Witherspoon': 3958, ' Isabel Lucas': 3959, ' Jeffrey Vincent Parise': 3960, ' Jon Bernthal': 3961, 'Luke Evans': 3962, 'Elizabeth Berrington': 3963, ' James Ransone': 3964, ' Theo James': 3965, 'Charlize Theron': 3966, 'Andy Serkis': 3967, 'Scarlett Johansson': 3968, 'Jelena Gavrilovic': 3969, 'Billy Crystal': 3970, 'Samantha Morton': 3971, ' Slobodan Bestic': 3972, ' Mustafa Kamel': 3973, ' Amara Miller': 3974, ' Dwayne Johnson': 3975, ' Sarah Paulson': 3976, ' Common': 3977, ' Laura Waddell': 3978, 'Owen Wilson': 3979, ' Brooklyn Decker': 3980, ' Niko Nicotera': 3981, ' Oliver Cooper': 3982, 'Michel Vuillermoz': 3983, ' Neil Flynn': 3984, ' Chris Evans': 3985, ' Brittany Murphy': 3986, 'Henry Cavill': 3987, ' Tom Prior': 3988, 'Alex Karpovsky': 3989, ' Tommy Dewey': 3990, 'Michael Dorman': 3991, ' Matthew Goode': 3992, ' Michael Shannon': 3993, 'Kate Winslet': 3994, ' Robin Williams': 3995, 'Ice Cube': 3996, ' Sarah Polley': 3997, ' Jesse Bradford': 3998, 'Anne Dorval': 3999, ' Jason Barry': 4000, ' Olivia Luccardi': 4001, 'Maggie Grace': 4002, ' Nicholas Brendon': 4003, 'Alexander Skarsgård': 4004, 'Julianne Moore': 4005, 'Will Smith': 4006, ' Jack Huston': 4007, ' Mónica Villa': 4008, ' Jeff Kahn': 4009, ' Amanda Seyfried': 4010, 'Ralph Fiennes': 4011, ' Rupert Friend': 4012, 'Scott Speedman': 4013, ' Domhnall Gleeson': 4014, ' AJ Michalka': 4015, 'Daniel Craig': 4016, 'Christopher Walken': 4017, ' Ron Perlman': 4018, ' Sean Bott': 4019, 'Boman Irani': 4020, 'Cameron Diaz': 4021, ' Art Parkinson': 4022, ' Sophie Perry': 4023, ' Keanu Reeves': 4024, 'Lee Pace': 4025, ' Laurence Leboeuf': 4026, ' Sam Shepard': 4027, 'Gabourey Sidibe': 4028, ' Jung-woo Ha': 4029, ' Dominique McElligott': 4030, ' Leslie Bibb': 4031, 'Christos Stergioglou': 4032, ' Matt Lanter': 4033, ' Riccardo Scamarcio': 4034, ' Jack Taylor': 4035, ' Laura Linney': 4036, ' Joe Cobden': 4037, ' Evangeline Lilly': 4038, ' Josh Brener': 4039, ' Trey Songz': 4040, ' Irrfan Khan': 4041, ' Michal Vondel': 4042, 'Susie Porter': 4043, ' Antoine-Olivier Pilon': 4044}\n"
          ]
        }
      ],
      "source": [
        "import pandas as pd\n",
        "import networkx as nx\n",
        "from node2vec import Node2Vec\n",
        "\n",
        "# Load the data\n",
        "df = pd.read_csv(data_path)\n",
        "\n",
        "# Create a directed graph\n",
        "G = nx.DiGraph()\n",
        "\n",
        "# Add nodes and edges based on your data\n",
        "for index, row in df.iterrows():\n",
        "    movie = row['Title']\n",
        "    G.add_node(movie, title=movie, genre=row['Genre'], director=row['Director'], actors=row['Actors'], year=row['Year'])\n",
        "\n",
        "    # Add edges between movie and genresfor index, row in df.iterrows():\n",
        "    movie = row['Title']\n",
        "    G.add_node(movie, title=movie, genre=row['Genre'], director=row['Director'], actors=row['Actors'], year=row['Year'])\n",
        "\n",
        "    # Add edges between movie and genres\n",
        "    for genre in row['Genre'].split(','):\n",
        "        if not G.has_node(genre):\n",
        "            G.add_node(genre)\n",
        "        G.add_edge(movie, genre, relation='belongs to')\n",
        "\n",
        "    # Add edges between movie and director\n",
        "    director = row['Director']\n",
        "    if not G.has_node(director):\n",
        "        G.add_node(director)\n",
        "    G.add_edge(movie, director, relation='directed by')\n",
        "\n",
        "    # Add edges between movie and actors\n",
        "    for actor in row['Actors'].split(','):\n",
        "        if not G.has_node(actor):\n",
        "            G.add_node(actor)\n",
        "        G.add_edge(actor, movie, relation='acted in')\n",
        "\n",
        "    # Add edge between movie and year\n",
        "    year = row['Year']\n",
        "    if not G.has_node(year):\n",
        "        G.add_node(year)\n",
        "    G.add_edge(movie, year, relation='released in')\n",
        "\n",
        "# Precompute probabilities and generate walks\n",
        "graph_embedding_dim = 768\n",
        "node2vec = Node2Vec(G, dimensions=graph_embedding_dim, walk_length=10, num_walks=20, workers=4)\n",
        "\n",
        "# Embed nodes\n",
        "n2v_model = node2vec.fit(window=10, min_count=1, batch_words=4)\n",
        "\n",
        "# Get embeddings for all nodes in your graph\n",
        "embeddings = n2v_model.wv.vectors\n",
        "\n",
        "# Create a mapping of node names to integers\n",
        "node_mapping = {node: i for i, node in enumerate(n2v_model.wv.index_to_key)}\n",
        "index_to_node = {i: node for i, node in enumerate(n2v_model.wv.index_to_key)}\n",
        "# Now, `node_mapping` is a dictionary that maps node names to their corresponding indices in the `embeddings` array\n",
        "print(node_mapping)"
      ]
    },
    {
      "cell_type": "code",
      "source": [
        "# Let's assume `node_value` is the value of the node for which you want to get the embedding\n",
        "node_value = \"2016\"\n",
        "\n",
        "# Get the embedding vector for the node\n",
        "node_embedding = n2v_model.wv[node_value]\n",
        "\n",
        "print(len(node_embedding))\n"
      ],
      "metadata": {
        "colab": {
          "base_uri": "https://localhost:8080/"
        },
        "id": "14rnwmS3xUJQ",
        "outputId": "5df1ffc1-ba43-41a2-e0c0-7d5ed97ed8ae"
      },
      "execution_count": 6,
      "outputs": [
        {
          "output_type": "stream",
          "name": "stdout",
          "text": [
            "768\n"
          ]
        }
      ]
    },
    {
      "cell_type": "code",
      "source": [],
      "metadata": {
        "id": "tGX8VVrfxrTB"
      },
      "execution_count": null,
      "outputs": []
    },
    {
      "cell_type": "code",
      "execution_count": 33,
      "metadata": {
        "colab": {
          "base_uri": "https://localhost:8080/"
        },
        "id": "s6lJQsZZnj2c",
        "outputId": "03ff0649-efe0-4468-dcb1-2d67814987a5"
      },
      "outputs": [
        {
          "output_type": "stream",
          "name": "stdout",
          "text": [
            "The Perks of Being a Wallflower\n"
          ]
        }
      ],
      "source": [
        "print(index_to_node[int(most_relevant_node.numpy())])"
      ]
    },
    {
      "cell_type": "code",
      "source": [
        "import pandas as pd\n",
        "\n",
        "train_data_path = \"/content/knowledge-graph-question-answering-imdb1000/data/dataset.csv\"\n",
        "df = pd.read_csv(train_data_path)\n",
        "answer_embeddings = []\n",
        "questions = []\n",
        "for index, row in df.iterrows():\n",
        "  node_value = row['answer']\n",
        "  if node_value in n2v_model.wv:\n",
        "    # print(node_value)\n",
        "    answer_embeddings.append(n2v_model.wv[node_value])\n",
        "    questions.append(row.question)\n",
        "\n",
        "print(questions[0])\n",
        "print(len(questions))"
      ],
      "metadata": {
        "colab": {
          "base_uri": "https://localhost:8080/"
        },
        "id": "Gsw55RC1rM8F",
        "outputId": "731cf429-4e6c-4b56-e482-9baff57e3745"
      },
      "execution_count": 6,
      "outputs": [
        {
          "output_type": "stream",
          "name": "stdout",
          "text": [
            "In which year was the movie \"Interstellar\" with Matthew McConaughey released?\n",
            "159\n"
          ]
        }
      ]
    },
    {
      "cell_type": "code",
      "source": [
        "num_epochs = 3\n",
        "import numpy as np\n",
        "from transformers import BertTokenizer\n",
        "import torch\n",
        "\n",
        "# Initialize the tokenizer\n",
        "tokenizer = BertTokenizer.from_pretrained('bert-base-uncased')\n",
        "\n",
        "text_queries = questions\n",
        "# Tokenize the queries\n",
        "inputs = tokenizer(text_queries, return_tensors='pt', padding=True, truncation=True)\n",
        "\n",
        "# Convert node embeddings to torch tensors\n",
        "# node_embeddings = torch.tensor(embeddings)\n",
        "answer_embeddings = torch.tensor(np.array(answer_embeddings))\n",
        "\n",
        "from transformers import BertModel\n",
        "import torch.nn as nn\n",
        "\n",
        "class FineTunedBert(nn.Module):\n",
        "    def __init__(self, bert_model_name, node_embedding_dim):\n",
        "        super(FineTunedBert, self).__init__()\n",
        "        self.bert = BertModel.from_pretrained(bert_model_name)\n",
        "        self.fc = nn.Linear(self.bert.config.hidden_size, node_embedding_dim)\n",
        "\n",
        "    def forward(self, input_ids, attention_mask, token_type_ids=None):\n",
        "        outputs = self.bert(input_ids=input_ids, attention_mask=attention_mask, token_type_ids=token_type_ids)\n",
        "        out = self.fc(outputs.pooler_output)\n",
        "        return out\n",
        "\n",
        "\n",
        "from torch.optim import AdamW\n",
        "\n",
        "# Initialize the model\n",
        "model = FineTunedBert('bert-base-uncased', graph_embedding_dim)\n",
        "\n",
        "# Define the optimizer\n",
        "optimizer = AdamW(model.parameters(), lr=1e-5)\n",
        "\n",
        "# Train the model\n",
        "for epoch in range(num_epochs):\n",
        "    model.train()\n",
        "    optimizer.zero_grad()\n",
        "    outputs = model(**inputs)\n",
        "    loss = 1 - torch.nn.functional.cosine_similarity(outputs, answer_embeddings)\n",
        "    # Aggregate the loss into a scalar\n",
        "    loss = loss.mean()\n",
        "    loss.backward()\n",
        "    optimizer.step()\n",
        "\n",
        "\n",
        "# Put the model in evaluation mode\n",
        "model.eval()\n",
        "\n",
        "# Get the query\n",
        "query = \"Name  movie whose title is Interstellar\"\n",
        "\n",
        "# Prepare the query\n",
        "inputs = tokenizer(query, return_tensors='pt')\n",
        "\n",
        "# Get the output from the model\n",
        "with torch.no_grad():\n",
        "    output = model(**inputs)\n",
        "\n",
        "# print(output)"
      ],
      "metadata": {
        "id": "DTDlKQ_hqMqe"
      },
      "execution_count": null,
      "outputs": []
    },
    {
      "cell_type": "code",
      "source": [
        "# Get the query\n",
        "query = \"Name movie whose title is Interstellar\"\n",
        "\n",
        "# Prepare the query\n",
        "inputs = tokenizer(query, return_tensors='pt')\n",
        "\n",
        "# Get the output from the model\n",
        "with torch.no_grad():\n",
        "    output = model(**inputs)"
      ],
      "metadata": {
        "id": "97O0tlmJ_wYK"
      },
      "execution_count": 18,
      "outputs": []
    },
    {
      "cell_type": "code",
      "source": [
        "output_vec = outputs[0]\n",
        "print(len(outputs), len(outputs[0]))"
      ],
      "metadata": {
        "colab": {
          "base_uri": "https://localhost:8080/"
        },
        "id": "pGax8O_c3GQQ",
        "outputId": "11d68803-a721-449c-abb8-ebb1026cbf19"
      },
      "execution_count": 19,
      "outputs": [
        {
          "output_type": "stream",
          "name": "stdout",
          "text": [
            "2 1\n"
          ]
        }
      ]
    },
    {
      "cell_type": "code",
      "source": [
        "from torch.nn.functional import cosine_similarity\n",
        "\n",
        "# transformed_bert_embedding = transform(bert_embedding)\n",
        "graph_embeddings_tensor = torch.from_numpy(embeddings)\n",
        "\n",
        "# Calculate the cosine similarity\n",
        "similarities = cosine_similarity(output_vec, graph_embeddings_tensor, dim=-1)\n",
        "\n",
        "# Find the most relevant node\n",
        "most_relevant_node = torch.argmax(similarities)"
      ],
      "metadata": {
        "colab": {
          "base_uri": "https://localhost:8080/",
          "height": 245
        },
        "id": "DDIdTZqn4Ps_",
        "outputId": "37759c58-3482-4019-a5c5-55097674b84d"
      },
      "execution_count": 20,
      "outputs": [
        {
          "output_type": "error",
          "ename": "RuntimeError",
          "evalue": "ignored",
          "traceback": [
            "\u001b[0;31m---------------------------------------------------------------------------\u001b[0m",
            "\u001b[0;31mRuntimeError\u001b[0m                              Traceback (most recent call last)",
            "\u001b[0;32m<ipython-input-20-0743884c0307>\u001b[0m in \u001b[0;36m<cell line: 7>\u001b[0;34m()\u001b[0m\n\u001b[1;32m      5\u001b[0m \u001b[0;34m\u001b[0m\u001b[0m\n\u001b[1;32m      6\u001b[0m \u001b[0;31m# Calculate the cosine similarity\u001b[0m\u001b[0;34m\u001b[0m\u001b[0;34m\u001b[0m\u001b[0m\n\u001b[0;32m----> 7\u001b[0;31m \u001b[0msimilarities\u001b[0m \u001b[0;34m=\u001b[0m \u001b[0mcosine_similarity\u001b[0m\u001b[0;34m(\u001b[0m\u001b[0moutput_vec\u001b[0m\u001b[0;34m,\u001b[0m \u001b[0mgraph_embeddings_tensor\u001b[0m\u001b[0;34m,\u001b[0m \u001b[0mdim\u001b[0m\u001b[0;34m=\u001b[0m\u001b[0;34m-\u001b[0m\u001b[0;36m1\u001b[0m\u001b[0;34m)\u001b[0m\u001b[0;34m\u001b[0m\u001b[0;34m\u001b[0m\u001b[0m\n\u001b[0m\u001b[1;32m      8\u001b[0m \u001b[0;34m\u001b[0m\u001b[0m\n\u001b[1;32m      9\u001b[0m \u001b[0;31m# Find the most relevant node\u001b[0m\u001b[0;34m\u001b[0m\u001b[0;34m\u001b[0m\u001b[0m\n",
            "\u001b[0;31mRuntimeError\u001b[0m: The size of tensor a (9) must match the size of tensor b (4045) at non-singleton dimension 1"
          ]
        }
      ]
    },
    {
      "cell_type": "code",
      "source": [
        "print(most_relevant_node.numpy())\n",
        "print(index_to_node[int(most_relevant_node.numpy())])"
      ],
      "metadata": {
        "colab": {
          "base_uri": "https://localhost:8080/"
        },
        "id": "RWY7i8M740mN",
        "outputId": "aebcf028-e30a-48fd-e7e3-a5a9917f586f"
      },
      "execution_count": 21,
      "outputs": [
        {
          "output_type": "stream",
          "name": "stdout",
          "text": [
            "24\n",
            "2006\n"
          ]
        }
      ]
    },
    {
      "cell_type": "code",
      "source": [
        "from transformers import BertModel, BertTokenizer\n",
        "import torch\n",
        "import torch.nn as nn\n",
        "from torch.optim import AdamW\n",
        "\n",
        "# Initialize the tokenizer and the model\n",
        "tokenizer = BertTokenizer.from_pretrained('bert-base-uncased')\n",
        "model = BertModel.from_pretrained('bert-base-uncased')\n",
        "\n",
        "# Add a new layer for fine-tuning\n",
        "model.add_module('fc', nn.Linear(model.config.hidden_size, graph_embedding_dim))\n",
        "\n",
        "# Define the optimizer\n",
        "optimizer = AdamW(model.parameters(), lr=1e-5)\n",
        "\n",
        "# Train the model\n",
        "for epoch in range(num_epochs):\n",
        "    model.train()\n",
        "    optimizer.zero_grad()\n",
        "    outputs = model(**inputs)\n",
        "    # Get the last hidden state\n",
        "    last_hidden_state = outputs.last_hidden_state\n",
        "    # Apply the new layer\n",
        "    out = model.fc(last_hidden_state)\n",
        "    loss = 1 - torch.nn.functional.cosine_similarity(out, answer_embeddings)\n",
        "    # Aggregate the loss into a scalar\n",
        "    loss = loss.mean()\n",
        "    loss.backward()\n",
        "    optimizer.step()\n",
        "\n",
        "# Put the model in evaluation mode\n",
        "model.eval()\n",
        "\n",
        "# Get the query\n",
        "query = \"Name  movie whose title is Interstellar\"\n",
        "\n",
        "# Prepare the query\n",
        "inputs = tokenizer(query, return_tensors='pt')\n",
        "\n",
        "# Get the output from the model\n",
        "with torch.no_grad():\n",
        "    output = model(**inputs)\n",
        "    # Apply the new layer\n",
        "    output = model.fc(output.last_hidden_state)\n"
      ],
      "metadata": {
        "colab": {
          "base_uri": "https://localhost:8080/",
          "height": 245
        },
        "id": "ymCGeyyA6na-",
        "outputId": "af886a40-183d-46ae-d7d4-a765589da857"
      },
      "execution_count": 17,
      "outputs": [
        {
          "output_type": "error",
          "ename": "RuntimeError",
          "evalue": "ignored",
          "traceback": [
            "\u001b[0;31m---------------------------------------------------------------------------\u001b[0m",
            "\u001b[0;31mRuntimeError\u001b[0m                              Traceback (most recent call last)",
            "\u001b[0;32m<ipython-input-17-4ce2a494d94a>\u001b[0m in \u001b[0;36m<cell line: 17>\u001b[0;34m()\u001b[0m\n\u001b[1;32m     23\u001b[0m     \u001b[0;31m# Apply the new layer\u001b[0m\u001b[0;34m\u001b[0m\u001b[0;34m\u001b[0m\u001b[0m\n\u001b[1;32m     24\u001b[0m     \u001b[0mout\u001b[0m \u001b[0;34m=\u001b[0m \u001b[0mmodel\u001b[0m\u001b[0;34m.\u001b[0m\u001b[0mfc\u001b[0m\u001b[0;34m(\u001b[0m\u001b[0mlast_hidden_state\u001b[0m\u001b[0;34m)\u001b[0m\u001b[0;34m\u001b[0m\u001b[0;34m\u001b[0m\u001b[0m\n\u001b[0;32m---> 25\u001b[0;31m     \u001b[0mloss\u001b[0m \u001b[0;34m=\u001b[0m \u001b[0;36m1\u001b[0m \u001b[0;34m-\u001b[0m \u001b[0mtorch\u001b[0m\u001b[0;34m.\u001b[0m\u001b[0mnn\u001b[0m\u001b[0;34m.\u001b[0m\u001b[0mfunctional\u001b[0m\u001b[0;34m.\u001b[0m\u001b[0mcosine_similarity\u001b[0m\u001b[0;34m(\u001b[0m\u001b[0mout\u001b[0m\u001b[0;34m,\u001b[0m \u001b[0manswer_embeddings\u001b[0m\u001b[0;34m)\u001b[0m\u001b[0;34m\u001b[0m\u001b[0;34m\u001b[0m\u001b[0m\n\u001b[0m\u001b[1;32m     26\u001b[0m     \u001b[0;31m# Aggregate the loss into a scalar\u001b[0m\u001b[0;34m\u001b[0m\u001b[0;34m\u001b[0m\u001b[0m\n\u001b[1;32m     27\u001b[0m     \u001b[0mloss\u001b[0m \u001b[0;34m=\u001b[0m \u001b[0mloss\u001b[0m\u001b[0;34m.\u001b[0m\u001b[0mmean\u001b[0m\u001b[0;34m(\u001b[0m\u001b[0;34m)\u001b[0m\u001b[0;34m\u001b[0m\u001b[0;34m\u001b[0m\u001b[0m\n",
            "\u001b[0;31mRuntimeError\u001b[0m: The size of tensor a (9) must match the size of tensor b (159) at non-singleton dimension 1"
          ]
        }
      ]
    },
    {
      "cell_type": "code",
      "source": [],
      "metadata": {
        "id": "LRPI3u9N6nSp"
      },
      "execution_count": null,
      "outputs": []
    },
    {
      "cell_type": "code",
      "execution_count": 16,
      "metadata": {
        "id": "G1qxKJPUcF1f",
        "colab": {
          "base_uri": "https://localhost:8080/"
        },
        "outputId": "a48d7bc9-b2bc-4afc-86a3-3c13a96ff512"
      },
      "outputs": [
        {
          "output_type": "stream",
          "name": "stdout",
          "text": [
            "[' Angelo Josue Lozano Corzo', ' Seth MacFarlane', 'Gone Girl', ' Julian Barratt', 'Sausage Party', 'Garth Davis', 'Rogue One', ' Scarlett Johansson', 'Drama', ' Iain Glen']\n"
          ]
        }
      ],
      "source": [
        "import torch\n",
        "from torch.nn import Linear\n",
        "from torch.nn.functional import cosine_similarity\n",
        "from transformers import BertModel, BertTokenizer\n",
        "\n",
        "# Check if GPU is available and if not, use CPU\n",
        "# device = torch.device('cuda' if torch.cuda.is_available() else 'cpu')\n",
        "\n",
        "# Load pre-trained model and tokenizer\n",
        "model = BertModel.from_pretrained('bert-base-uncased')\n",
        "tokenizer = BertTokenizer.from_pretrained('bert-base-uncased')\n",
        "\n",
        "# Define the dimension of your graph embeddings\n",
        "graph_embeddings = embeddings\n",
        "# Add a linear transformation layer to the model\n",
        "transform = Linear(model.config.hidden_size, graph_embedding_dim)\n",
        "\n",
        "# Assume `graph_embeddings` is a 2D tensor where each row is the embedding of a node\n",
        "# graph_embeddings = ...\n",
        "\n",
        "# Encode text query\n",
        "input_ids = tokenizer.encode(\"Name a 2014 movie whose title is Interstellar\", add_special_tokens=True)\n",
        "input_ids = torch.tensor(input_ids).unsqueeze(0)\n",
        "\n",
        "# Generate BERT embeddings\n",
        "with torch.no_grad():\n",
        "    last_hidden_states = model(input_ids)[0]\n",
        "\n",
        "# Take the embedding of the first token (i.e., [CLS]) as the embedding of the whole sentence\n",
        "bert_embedding = last_hidden_states[0, 0, :]\n",
        "\n",
        "# Transform the BERT embedding to have the same dimension as the graph embeddings\n",
        "transformed_bert_embedding = transform(bert_embedding)\n",
        "graph_embeddings_tensor = torch.from_numpy(graph_embeddings)\n",
        "\n",
        "# Ensure both tensors have the same number of dimensions\n",
        "if len(transformed_bert_embedding.shape) < len(graph_embeddings_tensor.shape):\n",
        "    transformed_bert_embedding = transformed_bert_embedding.unsqueeze(0)\n",
        "elif len(transformed_bert_embedding.shape) > len(graph_embeddings_tensor.shape):\n",
        "    graph_embeddings_tensor = graph_embeddings_tensor.unsqueeze(0)\n",
        "\n",
        "# Calculate the cosine similarity\n",
        "similarities = cosine_similarity(transformed_bert_embedding, graph_embeddings_tensor)\n",
        "\n",
        "# Find the most relevant node\n",
        "# most_relevant_node = torch.argmax(similarities)\n",
        "# print(most_relevant_node.numpy())\n",
        "\n",
        "# Find the top k most relevant nodes\n",
        "k = 10\n",
        "top_k_most_relevant_nodes = torch.topk(similarities, k)\n",
        "\n",
        "# for t in top_k_most_relevant_nodes:\n",
        "#   print(t)\n",
        "\n",
        "node_names = list(G.nodes)\n",
        "\n",
        "# Get the indices of the top k most relevant nodes\n",
        "top_k_indices = top_k_most_relevant_nodes.indices\n",
        "\n",
        "# Get the node names\n",
        "top_k_node_names = [node_names[i] for i in top_k_indices]\n",
        "\n",
        "print(top_k_node_names)"
      ]
    },
    {
      "cell_type": "code",
      "source": [
        "i = 0  # replace 0 with the actual index\n",
        "\n",
        "# Get the node value\n",
        "node_value = index_to_node[i]\n",
        "\n",
        "print(node_value)"
      ],
      "metadata": {
        "id": "u8dfKoaTqMbC"
      },
      "execution_count": null,
      "outputs": []
    }
  ],
  "metadata": {
    "accelerator": "GPU",
    "colab": {
      "provenance": []
    },
    "kernelspec": {
      "display_name": "Python 3",
      "name": "python3"
    },
    "language_info": {
      "name": "python"
    },
    "widgets": {
      "application/vnd.jupyter.widget-state+json": {
        "9dc022f432a944dd9499235dee461cc1": {
          "model_module": "@jupyter-widgets/controls",
          "model_name": "HBoxModel",
          "model_module_version": "1.5.0",
          "state": {
            "_dom_classes": [],
            "_model_module": "@jupyter-widgets/controls",
            "_model_module_version": "1.5.0",
            "_model_name": "HBoxModel",
            "_view_count": null,
            "_view_module": "@jupyter-widgets/controls",
            "_view_module_version": "1.5.0",
            "_view_name": "HBoxView",
            "box_style": "",
            "children": [
              "IPY_MODEL_64c0cd26ea014d399feeb44ae3202737",
              "IPY_MODEL_0afb2cf108d04fe0801437dee0b56220",
              "IPY_MODEL_7416342240b746eda4ec3db36f95999b"
            ],
            "layout": "IPY_MODEL_d7b4ab6a5d3344f6b5e620f4ba47bc07"
          }
        },
        "64c0cd26ea014d399feeb44ae3202737": {
          "model_module": "@jupyter-widgets/controls",
          "model_name": "HTMLModel",
          "model_module_version": "1.5.0",
          "state": {
            "_dom_classes": [],
            "_model_module": "@jupyter-widgets/controls",
            "_model_module_version": "1.5.0",
            "_model_name": "HTMLModel",
            "_view_count": null,
            "_view_module": "@jupyter-widgets/controls",
            "_view_module_version": "1.5.0",
            "_view_name": "HTMLView",
            "description": "",
            "description_tooltip": null,
            "layout": "IPY_MODEL_248f91531288453b9bdb2edf26ae5ed8",
            "placeholder": "​",
            "style": "IPY_MODEL_29e61045091044408a618c32bb744504",
            "value": "Computing transition probabilities: 100%"
          }
        },
        "0afb2cf108d04fe0801437dee0b56220": {
          "model_module": "@jupyter-widgets/controls",
          "model_name": "FloatProgressModel",
          "model_module_version": "1.5.0",
          "state": {
            "_dom_classes": [],
            "_model_module": "@jupyter-widgets/controls",
            "_model_module_version": "1.5.0",
            "_model_name": "FloatProgressModel",
            "_view_count": null,
            "_view_module": "@jupyter-widgets/controls",
            "_view_module_version": "1.5.0",
            "_view_name": "ProgressView",
            "bar_style": "success",
            "description": "",
            "description_tooltip": null,
            "layout": "IPY_MODEL_e581dcb5b56e49a4a72ad30758c09385",
            "max": 4046,
            "min": 0,
            "orientation": "horizontal",
            "style": "IPY_MODEL_f791ed76d9f7476db64566fa8272971d",
            "value": 4046
          }
        },
        "7416342240b746eda4ec3db36f95999b": {
          "model_module": "@jupyter-widgets/controls",
          "model_name": "HTMLModel",
          "model_module_version": "1.5.0",
          "state": {
            "_dom_classes": [],
            "_model_module": "@jupyter-widgets/controls",
            "_model_module_version": "1.5.0",
            "_model_name": "HTMLModel",
            "_view_count": null,
            "_view_module": "@jupyter-widgets/controls",
            "_view_module_version": "1.5.0",
            "_view_name": "HTMLView",
            "description": "",
            "description_tooltip": null,
            "layout": "IPY_MODEL_c1a9791c0db44ea6ba1b2f31ef86bd9d",
            "placeholder": "​",
            "style": "IPY_MODEL_dc4081c81f324a31958f11d9748546d2",
            "value": " 4046/4046 [00:00&lt;00:00, 12623.90it/s]"
          }
        },
        "d7b4ab6a5d3344f6b5e620f4ba47bc07": {
          "model_module": "@jupyter-widgets/base",
          "model_name": "LayoutModel",
          "model_module_version": "1.2.0",
          "state": {
            "_model_module": "@jupyter-widgets/base",
            "_model_module_version": "1.2.0",
            "_model_name": "LayoutModel",
            "_view_count": null,
            "_view_module": "@jupyter-widgets/base",
            "_view_module_version": "1.2.0",
            "_view_name": "LayoutView",
            "align_content": null,
            "align_items": null,
            "align_self": null,
            "border": null,
            "bottom": null,
            "display": null,
            "flex": null,
            "flex_flow": null,
            "grid_area": null,
            "grid_auto_columns": null,
            "grid_auto_flow": null,
            "grid_auto_rows": null,
            "grid_column": null,
            "grid_gap": null,
            "grid_row": null,
            "grid_template_areas": null,
            "grid_template_columns": null,
            "grid_template_rows": null,
            "height": null,
            "justify_content": null,
            "justify_items": null,
            "left": null,
            "margin": null,
            "max_height": null,
            "max_width": null,
            "min_height": null,
            "min_width": null,
            "object_fit": null,
            "object_position": null,
            "order": null,
            "overflow": null,
            "overflow_x": null,
            "overflow_y": null,
            "padding": null,
            "right": null,
            "top": null,
            "visibility": null,
            "width": null
          }
        },
        "248f91531288453b9bdb2edf26ae5ed8": {
          "model_module": "@jupyter-widgets/base",
          "model_name": "LayoutModel",
          "model_module_version": "1.2.0",
          "state": {
            "_model_module": "@jupyter-widgets/base",
            "_model_module_version": "1.2.0",
            "_model_name": "LayoutModel",
            "_view_count": null,
            "_view_module": "@jupyter-widgets/base",
            "_view_module_version": "1.2.0",
            "_view_name": "LayoutView",
            "align_content": null,
            "align_items": null,
            "align_self": null,
            "border": null,
            "bottom": null,
            "display": null,
            "flex": null,
            "flex_flow": null,
            "grid_area": null,
            "grid_auto_columns": null,
            "grid_auto_flow": null,
            "grid_auto_rows": null,
            "grid_column": null,
            "grid_gap": null,
            "grid_row": null,
            "grid_template_areas": null,
            "grid_template_columns": null,
            "grid_template_rows": null,
            "height": null,
            "justify_content": null,
            "justify_items": null,
            "left": null,
            "margin": null,
            "max_height": null,
            "max_width": null,
            "min_height": null,
            "min_width": null,
            "object_fit": null,
            "object_position": null,
            "order": null,
            "overflow": null,
            "overflow_x": null,
            "overflow_y": null,
            "padding": null,
            "right": null,
            "top": null,
            "visibility": null,
            "width": null
          }
        },
        "29e61045091044408a618c32bb744504": {
          "model_module": "@jupyter-widgets/controls",
          "model_name": "DescriptionStyleModel",
          "model_module_version": "1.5.0",
          "state": {
            "_model_module": "@jupyter-widgets/controls",
            "_model_module_version": "1.5.0",
            "_model_name": "DescriptionStyleModel",
            "_view_count": null,
            "_view_module": "@jupyter-widgets/base",
            "_view_module_version": "1.2.0",
            "_view_name": "StyleView",
            "description_width": ""
          }
        },
        "e581dcb5b56e49a4a72ad30758c09385": {
          "model_module": "@jupyter-widgets/base",
          "model_name": "LayoutModel",
          "model_module_version": "1.2.0",
          "state": {
            "_model_module": "@jupyter-widgets/base",
            "_model_module_version": "1.2.0",
            "_model_name": "LayoutModel",
            "_view_count": null,
            "_view_module": "@jupyter-widgets/base",
            "_view_module_version": "1.2.0",
            "_view_name": "LayoutView",
            "align_content": null,
            "align_items": null,
            "align_self": null,
            "border": null,
            "bottom": null,
            "display": null,
            "flex": null,
            "flex_flow": null,
            "grid_area": null,
            "grid_auto_columns": null,
            "grid_auto_flow": null,
            "grid_auto_rows": null,
            "grid_column": null,
            "grid_gap": null,
            "grid_row": null,
            "grid_template_areas": null,
            "grid_template_columns": null,
            "grid_template_rows": null,
            "height": null,
            "justify_content": null,
            "justify_items": null,
            "left": null,
            "margin": null,
            "max_height": null,
            "max_width": null,
            "min_height": null,
            "min_width": null,
            "object_fit": null,
            "object_position": null,
            "order": null,
            "overflow": null,
            "overflow_x": null,
            "overflow_y": null,
            "padding": null,
            "right": null,
            "top": null,
            "visibility": null,
            "width": null
          }
        },
        "f791ed76d9f7476db64566fa8272971d": {
          "model_module": "@jupyter-widgets/controls",
          "model_name": "ProgressStyleModel",
          "model_module_version": "1.5.0",
          "state": {
            "_model_module": "@jupyter-widgets/controls",
            "_model_module_version": "1.5.0",
            "_model_name": "ProgressStyleModel",
            "_view_count": null,
            "_view_module": "@jupyter-widgets/base",
            "_view_module_version": "1.2.0",
            "_view_name": "StyleView",
            "bar_color": null,
            "description_width": ""
          }
        },
        "c1a9791c0db44ea6ba1b2f31ef86bd9d": {
          "model_module": "@jupyter-widgets/base",
          "model_name": "LayoutModel",
          "model_module_version": "1.2.0",
          "state": {
            "_model_module": "@jupyter-widgets/base",
            "_model_module_version": "1.2.0",
            "_model_name": "LayoutModel",
            "_view_count": null,
            "_view_module": "@jupyter-widgets/base",
            "_view_module_version": "1.2.0",
            "_view_name": "LayoutView",
            "align_content": null,
            "align_items": null,
            "align_self": null,
            "border": null,
            "bottom": null,
            "display": null,
            "flex": null,
            "flex_flow": null,
            "grid_area": null,
            "grid_auto_columns": null,
            "grid_auto_flow": null,
            "grid_auto_rows": null,
            "grid_column": null,
            "grid_gap": null,
            "grid_row": null,
            "grid_template_areas": null,
            "grid_template_columns": null,
            "grid_template_rows": null,
            "height": null,
            "justify_content": null,
            "justify_items": null,
            "left": null,
            "margin": null,
            "max_height": null,
            "max_width": null,
            "min_height": null,
            "min_width": null,
            "object_fit": null,
            "object_position": null,
            "order": null,
            "overflow": null,
            "overflow_x": null,
            "overflow_y": null,
            "padding": null,
            "right": null,
            "top": null,
            "visibility": null,
            "width": null
          }
        },
        "dc4081c81f324a31958f11d9748546d2": {
          "model_module": "@jupyter-widgets/controls",
          "model_name": "DescriptionStyleModel",
          "model_module_version": "1.5.0",
          "state": {
            "_model_module": "@jupyter-widgets/controls",
            "_model_module_version": "1.5.0",
            "_model_name": "DescriptionStyleModel",
            "_view_count": null,
            "_view_module": "@jupyter-widgets/base",
            "_view_module_version": "1.2.0",
            "_view_name": "StyleView",
            "description_width": ""
          }
        }
      }
    }
  },
  "nbformat": 4,
  "nbformat_minor": 0
}